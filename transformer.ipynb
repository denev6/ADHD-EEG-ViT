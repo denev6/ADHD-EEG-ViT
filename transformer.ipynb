{
 "cells": [
  {
   "cell_type": "markdown",
   "metadata": {
    "id": "m0YgkzHQ6KaY"
   },
   "source": [
    "# Transformer\n",
    "\n",
    "Train Base ViT model for IEEE EEG dataset"
   ]
  },
  {
   "cell_type": "code",
   "metadata": {
    "vscode": {
     "languageId": "plaintext"
    },
    "colab": {
     "base_uri": "https://localhost:8080/"
    },
    "id": "gGK2yVT06Kab",
    "executionInfo": {
     "status": "ok",
     "timestamp": 1740572057260,
     "user_tz": -540,
     "elapsed": 3038,
     "user": {
      "displayName": "박성진",
      "userId": "12080183397045109956"
     }
    },
    "outputId": "b8c8ed7a-d099-4652-dd9e-f28f5d7ea033"
   },
   "source": [
    "# Mount Google Drive for Colab env\n",
    "import sys\n",
    "from google.colab import drive\n",
    "\n",
    "drive.mount(\"/content/drive\", force_remount=False)\n",
    "sys.path.append(\"/content/drive/MyDrive\")"
   ],
   "outputs": [],
   "execution_count": null
  },
  {
   "metadata": {},
   "cell_type": "code",
   "source": [
    "import torch\n",
    "import torch.nn as nn\n",
    "import torch.optim as optim\n",
    "from torch.utils.data import DataLoader\n",
    "\n",
    "from utils import *\n",
    "from models.transformer import TransformerConfig, Transformer\n",
    "\n",
    "ignore_warnings()\n",
    "fix_random_seed(42)\n",
    "device = device(force_cuda=True)\n",
    "print(\"Device:\", device)"
   ],
   "outputs": [],
   "execution_count": null
  },
  {
   "metadata": {},
   "cell_type": "code",
   "source": [
    "config = Config(\n",
    "    name=\"ieee transformer\",\n",
    "    batch=128,\n",
    "    grad_step=4,\n",
    "    epochs=300,\n",
    "    lr=1e-4,\n",
    "    warmup_steps=30,\n",
    "    lr_decay_factor=2,\n",
    "    weight_decay=1e-3,\n",
    "    patience=20,\n",
    ")\n",
    "data_config = IEEEData()\n",
    "model_config = TransformerConfig(\n",
    "    embed_dim=56,\n",
    "    num_heads=4,\n",
    "    num_blocks=6,\n",
    "    block_hidden_dim=56,\n",
    "    fc_hidden_dim=64,\n",
    "    dropout=0.1,\n",
    ")\n",
    "\n",
    "print(\"ID:\", config.id)\n",
    "print(\"Name:\", config.name)"
   ],
   "outputs": [],
   "execution_count": null
  },
  {
   "metadata": {},
   "cell_type": "code",
   "source": [
    "train_data_path = join_drive_path(\"data\", data_config.train)\n",
    "val_data_path = join_drive_path(\"data\", data_config.val)\n",
    "\n",
    "train_dataset = EEGDataset(train_data_path)\n",
    "val_dataset = EEGDataset(val_data_path)\n",
    "\n",
    "# The training set is ordered; shuffle it to ensure randomness\n",
    "train_dataloader = DataLoader(train_dataset, batch_size=config.batch, shuffle=True)\n",
    "val_dataloader = DataLoader(val_dataset, batch_size=config.batch)"
   ],
   "outputs": [],
   "execution_count": null
  },
  {
   "metadata": {},
   "cell_type": "code",
   "source": [
    "clear_cache()\n",
    "\n",
    "model = Transformer(\n",
    "    seq_length=data_config.length,\n",
    "    embed_dim=model_config.embed_dim,\n",
    "    num_heads=model_config.num_heads,\n",
    "    num_blocks=model_config.num_blocks,\n",
    "    block_hidden_dim=model_config.block_hidden_dim,\n",
    "    fc_hidden_dim=model_config.fc_hidden_dim,\n",
    "    num_classes=data_config.num_classes,\n",
    "    input_channel=data_config.channels,\n",
    "    dropout_p=model_config.dropout,\n",
    ").to(device)\n",
    "loss_fn = nn.CrossEntropyLoss().to(device)\n",
    "optimizer = optim.Adam(\n",
    "    model.parameters(),\n",
    "    lr=config.lr,\n",
    "    weight_decay=config.weight_decay,\n",
    ")"
   ],
   "outputs": [],
   "execution_count": null
  },
  {
   "metadata": {},
   "cell_type": "code",
   "source": [
    "check_point = train(\n",
    "    model=model,\n",
    "    model_path=config.model_path,\n",
    "    device=device,\n",
    "    optimizer=optimizer,\n",
    "    grad_step=config.grad_step,\n",
    "    criterion=loss_fn,\n",
    "    epochs=config.epochs,\n",
    "    train_loader=train_dataloader,\n",
    "    val_loader=val_dataloader,\n",
    "    initial_lr=config.lr,\n",
    "    min_lr=1e-7,\n",
    "    warmup_steps=config.warmup_steps,\n",
    "    lr_decay_factor=config.lr_decay_factor,\n",
    "    patience=config.patience,\n",
    ")\n",
    "config.epochs = check_point  # Update Epochs to save the result"
   ],
   "outputs": [],
   "execution_count": null
  },
  {
   "metadata": {},
   "cell_type": "code",
   "source": [
    "clear_cache()\n",
    "\n",
    "trained_weights = torch.load(config.model_path, weights_only=True, map_location=device)\n",
    "model.load_state_dict(trained_weights)"
   ],
   "outputs": [],
   "execution_count": null
  },
  {
   "metadata": {},
   "cell_type": "code",
   "source": [
    "test_data_path = join_drive_path(\"data\", data_config.test)\n",
    "test_dataset = EEGDataset(test_data_path)\n",
    "test_dataloader = DataLoader(test_dataset, batch_size=config.batch)\n",
    "\n",
    "metrics = evaluate(model, device, test_dataloader)\n",
    "\n",
    "print(f\"Accuracy: {metrics['accuracy']:.3f}\")\n",
    "print(f\"F1-Score: {metrics['f1-score']:.3f}\")\n",
    "print(f\"Recall: {metrics['recall']:.3f}\")\n",
    "print(f\"AUC: {metrics['auc']:.3f}\")"
   ],
   "outputs": [],
   "execution_count": null
  },
  {
   "metadata": {},
   "cell_type": "code",
   "source": "plot_roc(*metrics[\"roc-curve\"])",
   "outputs": [],
   "execution_count": null
  },
  {
   "metadata": {
    "vscode": {
     "languageId": "plaintext"
    },
    "id": "E3KIAiYn6Kag",
    "colab": {
     "base_uri": "https://localhost:8080/"
    },
    "executionInfo": {
     "status": "ok",
     "timestamp": 1740572184160,
     "user_tz": -540,
     "elapsed": 6,
     "user": {
      "displayName": "박성진",
      "userId": "12080183397045109956"
     }
    },
    "outputId": "649f6650-fcf3-45b7-d2ec-f4a66396004a"
   },
   "cell_type": "code",
   "source": [
    "json_path = join_drive_path(\"log\", f\"{config.name}_{config.id}.json\")\n",
    "metrics_to_log = {\n",
    "    \"accuracy\": metrics[\"accuracy\"],\n",
    "    \"f1-score\": metrics[\"f1-score\"],\n",
    "    \"recall\": metrics[\"recall\"],\n",
    "    \"auc\": metrics[\"auc\"],\n",
    "}\n",
    "log_json(json_path, config, data_config, model_config, **metrics_to_log)"
   ],
   "outputs": [],
   "execution_count": null
  }
 ],
 "metadata": {
  "language_info": {
   "name": "python"
  },
  "colab": {
   "provenance": [],
   "gpuType": "T4"
  },
  "kernelspec": {
   "name": "python3",
   "display_name": "Python 3"
  },
  "accelerator": "GPU",
  "widgets": {
   "application/vnd.jupyter.widget-state+json": {
    "621473758c704072b67eff8d3991abbd": {
     "model_module": "@jupyter-widgets/controls",
     "model_name": "HBoxModel",
     "model_module_version": "1.5.0",
     "state": {
      "_dom_classes": [],
      "_model_module": "@jupyter-widgets/controls",
      "_model_module_version": "1.5.0",
      "_model_name": "HBoxModel",
      "_view_count": null,
      "_view_module": "@jupyter-widgets/controls",
      "_view_module_version": "1.5.0",
      "_view_name": "HBoxView",
      "box_style": "",
      "children": [
       "IPY_MODEL_3713bb9404454d56a8f4001a4e11db57",
       "IPY_MODEL_c7253a751a944dceb74a2b1dd4eef811",
       "IPY_MODEL_7f183705c1b046f4890897ce9de9ca78"
      ],
      "layout": "IPY_MODEL_33aeb2e03560443ba92a3379947bd578"
     }
    },
    "3713bb9404454d56a8f4001a4e11db57": {
     "model_module": "@jupyter-widgets/controls",
     "model_name": "HTMLModel",
     "model_module_version": "1.5.0",
     "state": {
      "_dom_classes": [],
      "_model_module": "@jupyter-widgets/controls",
      "_model_module_version": "1.5.0",
      "_model_name": "HTMLModel",
      "_view_count": null,
      "_view_module": "@jupyter-widgets/controls",
      "_view_module_version": "1.5.0",
      "_view_name": "HTMLView",
      "description": "",
      "description_tooltip": null,
      "layout": "IPY_MODEL_45e6150c783944a296cfa3fd4777478a",
      "placeholder": "​",
      "style": "IPY_MODEL_be3a724b81654f88a90001e7850b8da2",
      "value": "  5%"
     }
    },
    "c7253a751a944dceb74a2b1dd4eef811": {
     "model_module": "@jupyter-widgets/controls",
     "model_name": "FloatProgressModel",
     "model_module_version": "1.5.0",
     "state": {
      "_dom_classes": [],
      "_model_module": "@jupyter-widgets/controls",
      "_model_module_version": "1.5.0",
      "_model_name": "FloatProgressModel",
      "_view_count": null,
      "_view_module": "@jupyter-widgets/controls",
      "_view_module_version": "1.5.0",
      "_view_name": "ProgressView",
      "bar_style": "danger",
      "description": "",
      "description_tooltip": null,
      "layout": "IPY_MODEL_64ba331081504155a83e4cbadffad197",
      "max": 100,
      "min": 0,
      "orientation": "horizontal",
      "style": "IPY_MODEL_df4671a948c8476294e9e5528ed23e73",
      "value": 5
     }
    },
    "7f183705c1b046f4890897ce9de9ca78": {
     "model_module": "@jupyter-widgets/controls",
     "model_name": "HTMLModel",
     "model_module_version": "1.5.0",
     "state": {
      "_dom_classes": [],
      "_model_module": "@jupyter-widgets/controls",
      "_model_module_version": "1.5.0",
      "_model_name": "HTMLModel",
      "_view_count": null,
      "_view_module": "@jupyter-widgets/controls",
      "_view_module_version": "1.5.0",
      "_view_name": "HTMLView",
      "description": "",
      "description_tooltip": null,
      "layout": "IPY_MODEL_bdae735e368142a6bafc30dbd602bd96",
      "placeholder": "​",
      "style": "IPY_MODEL_c08a87128dee418c924d795e5f3bf5ed",
      "value": " 5/100 [01:57&lt;31:08, 19.67s/it]"
     }
    },
    "33aeb2e03560443ba92a3379947bd578": {
     "model_module": "@jupyter-widgets/base",
     "model_name": "LayoutModel",
     "model_module_version": "1.2.0",
     "state": {
      "_model_module": "@jupyter-widgets/base",
      "_model_module_version": "1.2.0",
      "_model_name": "LayoutModel",
      "_view_count": null,
      "_view_module": "@jupyter-widgets/base",
      "_view_module_version": "1.2.0",
      "_view_name": "LayoutView",
      "align_content": null,
      "align_items": null,
      "align_self": null,
      "border": null,
      "bottom": null,
      "display": null,
      "flex": null,
      "flex_flow": null,
      "grid_area": null,
      "grid_auto_columns": null,
      "grid_auto_flow": null,
      "grid_auto_rows": null,
      "grid_column": null,
      "grid_gap": null,
      "grid_row": null,
      "grid_template_areas": null,
      "grid_template_columns": null,
      "grid_template_rows": null,
      "height": null,
      "justify_content": null,
      "justify_items": null,
      "left": null,
      "margin": null,
      "max_height": null,
      "max_width": null,
      "min_height": null,
      "min_width": null,
      "object_fit": null,
      "object_position": null,
      "order": null,
      "overflow": null,
      "overflow_x": null,
      "overflow_y": null,
      "padding": null,
      "right": null,
      "top": null,
      "visibility": null,
      "width": null
     }
    },
    "45e6150c783944a296cfa3fd4777478a": {
     "model_module": "@jupyter-widgets/base",
     "model_name": "LayoutModel",
     "model_module_version": "1.2.0",
     "state": {
      "_model_module": "@jupyter-widgets/base",
      "_model_module_version": "1.2.0",
      "_model_name": "LayoutModel",
      "_view_count": null,
      "_view_module": "@jupyter-widgets/base",
      "_view_module_version": "1.2.0",
      "_view_name": "LayoutView",
      "align_content": null,
      "align_items": null,
      "align_self": null,
      "border": null,
      "bottom": null,
      "display": null,
      "flex": null,
      "flex_flow": null,
      "grid_area": null,
      "grid_auto_columns": null,
      "grid_auto_flow": null,
      "grid_auto_rows": null,
      "grid_column": null,
      "grid_gap": null,
      "grid_row": null,
      "grid_template_areas": null,
      "grid_template_columns": null,
      "grid_template_rows": null,
      "height": null,
      "justify_content": null,
      "justify_items": null,
      "left": null,
      "margin": null,
      "max_height": null,
      "max_width": null,
      "min_height": null,
      "min_width": null,
      "object_fit": null,
      "object_position": null,
      "order": null,
      "overflow": null,
      "overflow_x": null,
      "overflow_y": null,
      "padding": null,
      "right": null,
      "top": null,
      "visibility": null,
      "width": null
     }
    },
    "be3a724b81654f88a90001e7850b8da2": {
     "model_module": "@jupyter-widgets/controls",
     "model_name": "DescriptionStyleModel",
     "model_module_version": "1.5.0",
     "state": {
      "_model_module": "@jupyter-widgets/controls",
      "_model_module_version": "1.5.0",
      "_model_name": "DescriptionStyleModel",
      "_view_count": null,
      "_view_module": "@jupyter-widgets/base",
      "_view_module_version": "1.2.0",
      "_view_name": "StyleView",
      "description_width": ""
     }
    },
    "64ba331081504155a83e4cbadffad197": {
     "model_module": "@jupyter-widgets/base",
     "model_name": "LayoutModel",
     "model_module_version": "1.2.0",
     "state": {
      "_model_module": "@jupyter-widgets/base",
      "_model_module_version": "1.2.0",
      "_model_name": "LayoutModel",
      "_view_count": null,
      "_view_module": "@jupyter-widgets/base",
      "_view_module_version": "1.2.0",
      "_view_name": "LayoutView",
      "align_content": null,
      "align_items": null,
      "align_self": null,
      "border": null,
      "bottom": null,
      "display": null,
      "flex": null,
      "flex_flow": null,
      "grid_area": null,
      "grid_auto_columns": null,
      "grid_auto_flow": null,
      "grid_auto_rows": null,
      "grid_column": null,
      "grid_gap": null,
      "grid_row": null,
      "grid_template_areas": null,
      "grid_template_columns": null,
      "grid_template_rows": null,
      "height": null,
      "justify_content": null,
      "justify_items": null,
      "left": null,
      "margin": null,
      "max_height": null,
      "max_width": null,
      "min_height": null,
      "min_width": null,
      "object_fit": null,
      "object_position": null,
      "order": null,
      "overflow": null,
      "overflow_x": null,
      "overflow_y": null,
      "padding": null,
      "right": null,
      "top": null,
      "visibility": null,
      "width": null
     }
    },
    "df4671a948c8476294e9e5528ed23e73": {
     "model_module": "@jupyter-widgets/controls",
     "model_name": "ProgressStyleModel",
     "model_module_version": "1.5.0",
     "state": {
      "_model_module": "@jupyter-widgets/controls",
      "_model_module_version": "1.5.0",
      "_model_name": "ProgressStyleModel",
      "_view_count": null,
      "_view_module": "@jupyter-widgets/base",
      "_view_module_version": "1.2.0",
      "_view_name": "StyleView",
      "bar_color": null,
      "description_width": ""
     }
    },
    "bdae735e368142a6bafc30dbd602bd96": {
     "model_module": "@jupyter-widgets/base",
     "model_name": "LayoutModel",
     "model_module_version": "1.2.0",
     "state": {
      "_model_module": "@jupyter-widgets/base",
      "_model_module_version": "1.2.0",
      "_model_name": "LayoutModel",
      "_view_count": null,
      "_view_module": "@jupyter-widgets/base",
      "_view_module_version": "1.2.0",
      "_view_name": "LayoutView",
      "align_content": null,
      "align_items": null,
      "align_self": null,
      "border": null,
      "bottom": null,
      "display": null,
      "flex": null,
      "flex_flow": null,
      "grid_area": null,
      "grid_auto_columns": null,
      "grid_auto_flow": null,
      "grid_auto_rows": null,
      "grid_column": null,
      "grid_gap": null,
      "grid_row": null,
      "grid_template_areas": null,
      "grid_template_columns": null,
      "grid_template_rows": null,
      "height": null,
      "justify_content": null,
      "justify_items": null,
      "left": null,
      "margin": null,
      "max_height": null,
      "max_width": null,
      "min_height": null,
      "min_width": null,
      "object_fit": null,
      "object_position": null,
      "order": null,
      "overflow": null,
      "overflow_x": null,
      "overflow_y": null,
      "padding": null,
      "right": null,
      "top": null,
      "visibility": null,
      "width": null
     }
    },
    "c08a87128dee418c924d795e5f3bf5ed": {
     "model_module": "@jupyter-widgets/controls",
     "model_name": "DescriptionStyleModel",
     "model_module_version": "1.5.0",
     "state": {
      "_model_module": "@jupyter-widgets/controls",
      "_model_module_version": "1.5.0",
      "_model_name": "DescriptionStyleModel",
      "_view_count": null,
      "_view_module": "@jupyter-widgets/base",
      "_view_module_version": "1.2.0",
      "_view_name": "StyleView",
      "description_width": ""
     }
    }
   }
  }
 },
 "nbformat": 4,
 "nbformat_minor": 0
}
