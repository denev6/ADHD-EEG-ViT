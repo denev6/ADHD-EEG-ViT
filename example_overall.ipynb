{
 "cells": [
  {
   "cell_type": "markdown",
   "metadata": {
    "id": "m0YgkzHQ6KaY"
   },
   "source": [
    "# Example of Traning a model\n",
    "\n",
    "Train Base ViT model for IEEE EEG dataset"
   ]
  },
  {
   "cell_type": "code",
   "execution_count": 1,
   "metadata": {
    "vscode": {
     "languageId": "plaintext"
    },
    "colab": {
     "base_uri": "https://localhost:8080/"
    },
    "id": "7Ge6t93_6Kaa",
    "executionInfo": {
     "status": "ok",
     "timestamp": 1740494602022,
     "user_tz": -540,
     "elapsed": 4031,
     "user": {
      "displayName": "박성진",
      "userId": "12080183397045109956"
     }
    },
    "outputId": "55a26277-46bd-45e7-8fb2-96e602475c22"
   },
   "outputs": [
    {
     "output_type": "stream",
     "name": "stdout",
     "text": [
      "Requirement already satisfied: torchinfo in /usr/local/lib/python3.11/dist-packages (1.8.0)\n"
     ]
    }
   ],
   "source": [
    "!pip install torchinfo"
   ]
  },
  {
   "cell_type": "code",
   "execution_count": 2,
   "metadata": {
    "vscode": {
     "languageId": "plaintext"
    },
    "colab": {
     "base_uri": "https://localhost:8080/"
    },
    "id": "gGK2yVT06Kab",
    "executionInfo": {
     "status": "ok",
     "timestamp": 1740494610961,
     "user_tz": -540,
     "elapsed": 8937,
     "user": {
      "displayName": "박성진",
      "userId": "12080183397045109956"
     }
    },
    "outputId": "351c5773-41a4-482c-9b90-4ef505bd4368"
   },
   "outputs": [
    {
     "output_type": "stream",
     "name": "stdout",
     "text": [
      "Drive already mounted at /content/drive; to attempt to forcibly remount, call drive.mount(\"/content/drive\", force_remount=True).\n"
     ]
    }
   ],
   "source": [
    "import os\n",
    "import json\n",
    "from datetime import datetime\n",
    "import gc\n",
    "\n",
    "import numpy as np\n",
    "from tqdm.auto import tqdm, trange\n",
    "import torch\n",
    "import torch.nn as nn\n",
    "import torch.optim as optim\n",
    "from torch.utils.data import DataLoader, Dataset\n",
    "from torchinfo import summary\n",
    "from sklearn.metrics import accuracy_score, f1_score, roc_curve, auc\n",
    "import matplotlib.pyplot as plt\n",
    "import warnings\n",
    "\n",
    "# Run on Colab env\n",
    "from google.colab import drive\n",
    "\n",
    "drive.mount(\"/content/drive\")\n",
    "warnings.filterwarnings(\"ignore\")\n",
    "\n",
    "\n",
    "def join_path(*args):\n",
    "    return os.path.join(\"/content/drive/MyDrive\", *args)\n",
    "\n",
    "\n",
    "def clear_cache():\n",
    "    gc.collect()\n",
    "    torch.cuda.empty_cache()"
   ]
  },
  {
   "metadata": {
    "colab": {
     "base_uri": "https://localhost:8080/"
    },
    "id": "qugmP-P2bCRp",
    "executionInfo": {
     "status": "ok",
     "timestamp": 1740494611058,
     "user_tz": -540,
     "elapsed": 8,
     "user": {
      "displayName": "박성진",
      "userId": "12080183397045109956"
     }
    },
    "outputId": "49842261-9c97-4b38-d367-d554b912f54a"
   },
   "cell_type": "code",
   "outputs": [
    {
     "output_type": "stream",
     "name": "stdout",
     "text": [
      "Device: cuda\n"
     ]
    }
   ],
   "execution_count": 3,
   "source": [
    "# Make sure that CUDA is available\n",
    "assert torch.cuda.is_available(), \"CUDA is not available\"\n",
    "device = torch.device(\"cuda\")  # if torch.cuda.is_available() else torch.device(\"cpu\")\n",
    "print(\"Device:\", device)"
   ]
  },
  {
   "cell_type": "markdown",
   "metadata": {
    "id": "627baJz66Kac"
   },
   "source": [
    "## Settings"
   ]
  },
  {
   "cell_type": "code",
   "execution_count": 4,
   "metadata": {
    "vscode": {
     "languageId": "plaintext"
    },
    "colab": {
     "base_uri": "https://localhost:8080/"
    },
    "id": "AtcfAhOF6Kac",
    "executionInfo": {
     "status": "ok",
     "timestamp": 1740494611076,
     "user_tz": -540,
     "elapsed": 17,
     "user": {
      "displayName": "박성진",
      "userId": "12080183397045109956"
     }
    },
    "outputId": "e06e3144-c028-47e3-c3a4-3cbe1ad6f59a"
   },
   "outputs": [
    {
     "output_type": "stream",
     "name": "stdout",
     "text": [
      "ID: 250225144330444859\n",
      "Name: prototype\n"
     ]
    }
   ],
   "source": [
    "if not os.path.isdir(join_path(\"log\")):\n",
    "    os.mkdir(join_path(\"log\"))\n",
    "\n",
    "# Assign a unique ID to each experiment result\n",
    "# use 'secrets.token_hex' if needed\n",
    "current_time = datetime.now()\n",
    "experiment_id = current_time.strftime(\"%y%m%d%H%M%S%f\")\n",
    "print(\"ID:\", experiment_id)\n",
    "\n",
    "experiment_name = \"prototype\"\n",
    "print(\"Name:\", experiment_name)\n",
    "\n",
    "# Fix random seed\n",
    "random_seed = 42\n",
    "np.random.seed(random_seed)\n",
    "torch.manual_seed(random_seed)\n",
    "torch.cuda.manual_seed_all(random_seed)\n",
    "\n",
    "# Settings\n",
    "ARGS = {\n",
    "    \"id\": experiment_id,\n",
    "    \"name\": experiment_name,\n",
    "    \"model_path\": join_path(\"log\", f\"{experiment_name}_{experiment_id}.pth\"),\n",
    "    \"batch\": 64,\n",
    "    \"grad_step\": 1,\n",
    "    \"epochs\": 3,\n",
    "    \"lr\": 1e-4,\n",
    "    \"warmup_steps\": 1,\n",
    "    \"weight_decay\": 1e-2,\n",
    "    \"patience\": 0,\n",
    "}\n",
    "DATA = {\n",
    "    \"train_path\": join_path(\"data\", \"train.pt\"),\n",
    "    \"test_path\": join_path(\"data\", \"test.pt\"),\n",
    "    \"val_path\": join_path(\"data\", \"val.pt\"),\n",
    "    \"channel\": 19,\n",
    "    \"length\": 2560,\n",
    "    \"labels\": [\"control\", \"ADHD\"],\n",
    "}\n",
    "MODEL = {\n",
    "    \"embed_dim\": 128,\n",
    "    \"num_heads\": 4,\n",
    "    \"num_block\": 4,\n",
    "    \"num_class\": 2,\n",
    "    \"mlp_dim\": 128 * 4,\n",
    "    \"dropout_p\": 0.5,\n",
    "}"
   ]
  },
  {
   "cell_type": "markdown",
   "metadata": {
    "id": "x2qzWovr6Kad"
   },
   "source": [
    "## Utils"
   ]
  },
  {
   "cell_type": "code",
   "execution_count": 5,
   "metadata": {
    "vscode": {
     "languageId": "plaintext"
    },
    "id": "W3L-3e0Q6Kad",
    "executionInfo": {
     "status": "ok",
     "timestamp": 1740494611091,
     "user_tz": -540,
     "elapsed": 14,
     "user": {
      "displayName": "박성진",
      "userId": "12080183397045109956"
     }
    }
   },
   "outputs": [],
   "source": [
    "class EarlyStopping(object):\n",
    "    \"\"\"Stop training when loss does not decrease\n",
    "\n",
    "    :param patience: number of epochs to wait before stopping\n",
    "    :param path_to_save: path to save the best model\n",
    "    \"\"\"\n",
    "\n",
    "    def __init__(self, patience, path_to_save):\n",
    "        self._min_loss = float(\"inf\")\n",
    "        self._patience = patience\n",
    "        self._path = path_to_save\n",
    "        self.__check_point = None\n",
    "        self.__counter = 0\n",
    "\n",
    "    def should_stop(self, loss, model=None, epoch=None):\n",
    "        \"\"\"Check if training should stop.\n",
    "        If 'model' or 'epoch' is None, the checkpoint will not be saved.\n",
    "\n",
    "        :param loss: current loss\n",
    "        :param model: model to save as checkpoint\n",
    "        :param epoch: current epoch to mark check point\n",
    "        :return: True if training should stop, False otherwise\n",
    "        \"\"\"\n",
    "        if loss < self._min_loss:\n",
    "            self._min_loss = loss\n",
    "            self.__counter = 0\n",
    "            if (model is not None) and (epoch is not None):\n",
    "                self.__check_point = epoch\n",
    "                torch.save(model.state_dict(), self._path)\n",
    "        elif loss > self._min_loss:\n",
    "            self.__counter += 1\n",
    "            if self.__counter == self._patience:\n",
    "                return True\n",
    "        return False\n",
    "\n",
    "    def load(self, weights_only=True):\n",
    "        \"\"\"Load best model weights\n",
    "\n",
    "        :param weights_only: load only weights (default: True)\n",
    "        :return: best model weights\n",
    "        \"\"\"\n",
    "        return torch.load(self._path, weights_only=weights_only)\n",
    "\n",
    "    @property\n",
    "    def check_point(self):\n",
    "        \"\"\"Return check point index\n",
    "\n",
    "        :return: check point index\n",
    "        \"\"\"\n",
    "        if self.__check_point is None:\n",
    "            raise ValueError(\"No check point is saved!\")\n",
    "        return self.__check_point"
   ]
  },
  {
   "cell_type": "code",
   "execution_count": 6,
   "metadata": {
    "vscode": {
     "languageId": "plaintext"
    },
    "id": "9J5WRCkH6Kad",
    "executionInfo": {
     "status": "ok",
     "timestamp": 1740494611136,
     "user_tz": -540,
     "elapsed": 44,
     "user": {
      "displayName": "박성진",
      "userId": "12080183397045109956"
     }
    }
   },
   "outputs": [],
   "source": [
    "class WarmupScheduler(object):\n",
    "    \"\"\"Warmup learning rate and dynamically adjusts learning rate based on training loss.\n",
    "\n",
    "    :param optimizer: torch optimizer\n",
    "    :param initial_lr: initial learning rate\n",
    "    :param min_lr: minimum learning rate\n",
    "    :param warmup_steps: number of warmup steps\n",
    "    :param decay_factor: decay factor\n",
    "    \"\"\"\n",
    "\n",
    "    def __init__(\n",
    "        self, optimizer, initial_lr, min_lr=1e-6, warmup_steps=10, decay_factor=10\n",
    "    ):\n",
    "        self.optimizer = optimizer\n",
    "        self.initial_lr = initial_lr\n",
    "        self.min_lr = min_lr\n",
    "        self.warmup_steps = warmup_steps\n",
    "        self.decay_factor = decay_factor\n",
    "\n",
    "        assert self.warmup_steps > 0, \"Warmup steps must be greater than 0\"\n",
    "        assert self.decay_factor > 1, \"Decay factor must be greater than 1\"\n",
    "\n",
    "        self.global_step = 1\n",
    "        self.best_loss = float(\"inf\")\n",
    "\n",
    "        # Initialize learning rates\n",
    "        for param_group in self.optimizer.param_groups:\n",
    "            param_group[\"lr\"] = self.initial_lr * (self.global_step / self.warmup_steps)\n",
    "\n",
    "    def step(self, loss):\n",
    "        \"\"\"Update learning rate based on current loss.\"\"\"\n",
    "        self.global_step += 1\n",
    "\n",
    "        if self.global_step <= self.warmup_steps:\n",
    "            # Linear warmup\n",
    "            warmup_lr = self.initial_lr * (self.global_step / self.warmup_steps)\n",
    "            for param_group in self.optimizer.param_groups:\n",
    "                param_group[\"lr\"] = warmup_lr\n",
    "        else:\n",
    "            # Check if loss increased\n",
    "            if loss > self.best_loss:\n",
    "                for param_group in self.optimizer.param_groups:\n",
    "                    new_lr = max(param_group[\"lr\"] / self.decay_factor, self.min_lr)\n",
    "                    param_group[\"lr\"] = new_lr\n",
    "            self.best_loss = min(self.best_loss, loss)\n",
    "\n",
    "    def get_lr(self):\n",
    "        \"\"\"Return current learning rates.\"\"\"\n",
    "        return [param_group[\"lr\"] for param_group in self.optimizer.param_groups]"
   ]
  },
  {
   "cell_type": "markdown",
   "metadata": {
    "id": "bbxrH7km6Kae"
   },
   "source": [
    "## Dataset"
   ]
  },
  {
   "cell_type": "code",
   "execution_count": 7,
   "metadata": {
    "vscode": {
     "languageId": "plaintext"
    },
    "id": "ixXXJUoB6Kae",
    "executionInfo": {
     "status": "ok",
     "timestamp": 1740494611137,
     "user_tz": -540,
     "elapsed": 8,
     "user": {
      "displayName": "박성진",
      "userId": "12080183397045109956"
     }
    }
   },
   "outputs": [],
   "source": [
    "class EEGDataset(Dataset):\n",
    "    def __init__(self, file_path):\n",
    "        self.dataset = torch.load(file_path)\n",
    "        self.eeg = self.dataset[\"data\"]\n",
    "        self.labels = self.dataset[\"label\"]\n",
    "\n",
    "    def __len__(self):\n",
    "        return len(self.labels)\n",
    "\n",
    "    def __getitem__(self, idx):\n",
    "        # eeg: FloatTensor to match weights and bias\n",
    "        # labels: LongTensor for loss computation\n",
    "        return self.eeg[idx].float(), self.labels[idx].long()"
   ]
  },
  {
   "cell_type": "code",
   "execution_count": 8,
   "metadata": {
    "vscode": {
     "languageId": "plaintext"
    },
    "id": "QdaiSquS6Kae",
    "executionInfo": {
     "status": "ok",
     "timestamp": 1740494611521,
     "user_tz": -540,
     "elapsed": 390,
     "user": {
      "displayName": "박성진",
      "userId": "12080183397045109956"
     }
    }
   },
   "outputs": [],
   "source": [
    "train_dataset = EEGDataset(DATA[\"train_path\"])\n",
    "val_dataset = EEGDataset(DATA[\"val_path\"])\n",
    "test_dataset = EEGDataset(DATA[\"test_path\"])\n",
    "\n",
    "# The training set is ordered; shuffle it to ensure randomness\n",
    "train_dataloader = DataLoader(train_dataset, batch_size=ARGS[\"batch\"], shuffle=True)\n",
    "val_dataloader = DataLoader(val_dataset, batch_size=ARGS[\"batch\"])\n",
    "test_dataloader = DataLoader(test_dataset, batch_size=ARGS[\"batch\"])"
   ]
  },
  {
   "cell_type": "markdown",
   "metadata": {
    "id": "gJSgiXDT6Kae"
   },
   "source": [
    "## Model"
   ]
  },
  {
   "cell_type": "code",
   "execution_count": 9,
   "metadata": {
    "vscode": {
     "languageId": "plaintext"
    },
    "id": "hV1Pk2Pf6Kaf",
    "executionInfo": {
     "status": "ok",
     "timestamp": 1740494611529,
     "user_tz": -540,
     "elapsed": 7,
     "user": {
      "displayName": "박성진",
      "userId": "12080183397045109956"
     }
    }
   },
   "outputs": [],
   "source": [
    "class AttentionBlock(nn.Module):\n",
    "    def __init__(self, embed_dim, num_heads, mlp_dim):\n",
    "        super(AttentionBlock, self).__init__()\n",
    "        self.embed_dim = embed_dim\n",
    "        self.attention = nn.MultiheadAttention(embed_dim, num_heads, batch_first=True)\n",
    "        self.norm1 = nn.LayerNorm(embed_dim)\n",
    "        self.mlp = nn.Sequential(\n",
    "            nn.Linear(embed_dim, mlp_dim),\n",
    "            nn.ReLU(),\n",
    "            nn.Linear(mlp_dim, embed_dim),\n",
    "        )\n",
    "        self.norm2 = nn.LayerNorm(embed_dim)\n",
    "\n",
    "    def forward(self, input: torch.Tensor):\n",
    "        torch._assert(\n",
    "            input.shape[2] == self.embed_dim,\n",
    "            f\"Input shape must be (batch_size, seq_len, {self.embed_dim})\",\n",
    "        )\n",
    "\n",
    "        # Multi-head Attention\n",
    "        x, _ = self.attention(input, input, input, need_weights=False)\n",
    "\n",
    "        # Add & Norm\n",
    "        x_ = self.norm1(x + input)\n",
    "\n",
    "        # Feed Forward\n",
    "        x_ = self.mlp(x_)\n",
    "\n",
    "        # Add & Norm\n",
    "        x = self.norm2(x + x_)\n",
    "        return x"
   ]
  },
  {
   "cell_type": "code",
   "execution_count": 10,
   "metadata": {
    "vscode": {
     "languageId": "plaintext"
    },
    "id": "qSSWKMo86Kaf",
    "executionInfo": {
     "status": "ok",
     "timestamp": 1740494611539,
     "user_tz": -540,
     "elapsed": 2,
     "user": {
      "displayName": "박성진",
      "userId": "12080183397045109956"
     }
    }
   },
   "outputs": [],
   "source": [
    "class EEGTransformer(nn.Module):\n",
    "    def __init__(\n",
    "        self,\n",
    "        embed_dim,\n",
    "        num_heads,\n",
    "        num_block,\n",
    "        num_class,\n",
    "        seq_length,\n",
    "        mlp_dim,\n",
    "        dropout_p=0.0,\n",
    "    ):\n",
    "        super(EEGTransformer, self).__init__()\n",
    "        self.dropout_p = dropout_p\n",
    "        self.signal_channel = 19\n",
    "        self.seq_length = seq_length\n",
    "\n",
    "        # Embedding\n",
    "        self.proj = nn.Conv1d(self.signal_channel, embed_dim, kernel_size=3, padding=1)\n",
    "        self.pos_embedding = nn.Parameter(\n",
    "            torch.empty(1, seq_length, embed_dim).normal_(std=0.02)\n",
    "        )\n",
    "\n",
    "        # Attention Blocks\n",
    "        self.encoder = nn.ModuleList(\n",
    "            [AttentionBlock(embed_dim, num_heads, mlp_dim) for _ in range(num_block)]\n",
    "        )\n",
    "\n",
    "        # Decoding layers\n",
    "        self.global_max_pool = nn.Sequential(\n",
    "            nn.AdaptiveMaxPool1d(1), nn.Dropout(p=self.dropout_p)\n",
    "        )\n",
    "        self.fc = nn.Sequential(\n",
    "            nn.Flatten(1, -1),\n",
    "            nn.Linear(embed_dim, num_class),\n",
    "            nn.ReLU(),\n",
    "            nn.Dropout(p=self.dropout_p),\n",
    "        )\n",
    "\n",
    "    def forward(self, input):\n",
    "        torch._assert(\n",
    "            input.shape[1:] == (self.signal_channel, self.seq_length),\n",
    "            f\"Expected shape of (batch, {self.signal_channel}, {self.seq_length})\",\n",
    "        )\n",
    "        x = self.proj(input)\n",
    "\n",
    "        # Self-attention requires shape of (batch, seq_len. embed_dim)\n",
    "        x = x.permute(0, 2, 1)\n",
    "        x = x + self.pos_embedding\n",
    "\n",
    "        for layer in self.encoder:\n",
    "            x = layer(x)\n",
    "\n",
    "        x = x.permute(0, 2, 1)\n",
    "        # x: (-1, embed_dim, seq_len)\n",
    "        x = self.global_max_pool(x)\n",
    "        x = self.fc(x)\n",
    "        return x"
   ]
  },
  {
   "cell_type": "code",
   "execution_count": 11,
   "metadata": {
    "vscode": {
     "languageId": "plaintext"
    },
    "colab": {
     "base_uri": "https://localhost:8080/"
    },
    "id": "-Lya7cnf6Kaf",
    "executionInfo": {
     "status": "ok",
     "timestamp": 1740494612241,
     "user_tz": -540,
     "elapsed": 702,
     "user": {
      "displayName": "박성진",
      "userId": "12080183397045109956"
     }
    },
    "outputId": "262e318b-06f7-4349-d6c0-ab8d0bcd4c33"
   },
   "outputs": [
    {
     "output_type": "execute_result",
     "data": {
      "text/plain": [
       "==========================================================================================\n",
       "Layer (type:depth-idx)                   Output Shape              Param #\n",
       "==========================================================================================\n",
       "EEGTransformer                           [1, 2]                    327,680\n",
       "├─Conv1d: 1-1                            [1, 128, 2560]            7,424\n",
       "├─ModuleList: 1-2                        --                        --\n",
       "│    └─AttentionBlock: 2-1               [1, 2560, 128]            --\n",
       "│    │    └─MultiheadAttention: 3-1      [1, 2560, 128]            66,048\n",
       "│    │    └─LayerNorm: 3-2               [1, 2560, 128]            256\n",
       "│    │    └─Sequential: 3-3              [1, 2560, 128]            131,712\n",
       "│    │    └─LayerNorm: 3-4               [1, 2560, 128]            256\n",
       "│    └─AttentionBlock: 2-2               [1, 2560, 128]            --\n",
       "│    │    └─MultiheadAttention: 3-5      [1, 2560, 128]            66,048\n",
       "│    │    └─LayerNorm: 3-6               [1, 2560, 128]            256\n",
       "│    │    └─Sequential: 3-7              [1, 2560, 128]            131,712\n",
       "│    │    └─LayerNorm: 3-8               [1, 2560, 128]            256\n",
       "│    └─AttentionBlock: 2-3               [1, 2560, 128]            --\n",
       "│    │    └─MultiheadAttention: 3-9      [1, 2560, 128]            66,048\n",
       "│    │    └─LayerNorm: 3-10              [1, 2560, 128]            256\n",
       "│    │    └─Sequential: 3-11             [1, 2560, 128]            131,712\n",
       "│    │    └─LayerNorm: 3-12              [1, 2560, 128]            256\n",
       "│    └─AttentionBlock: 2-4               [1, 2560, 128]            --\n",
       "│    │    └─MultiheadAttention: 3-13     [1, 2560, 128]            66,048\n",
       "│    │    └─LayerNorm: 3-14              [1, 2560, 128]            256\n",
       "│    │    └─Sequential: 3-15             [1, 2560, 128]            131,712\n",
       "│    │    └─LayerNorm: 3-16              [1, 2560, 128]            256\n",
       "├─Sequential: 1-3                        [1, 128, 1]               --\n",
       "│    └─AdaptiveMaxPool1d: 2-5            [1, 128, 1]               --\n",
       "│    └─Dropout: 2-6                      [1, 128, 1]               --\n",
       "├─Sequential: 1-4                        [1, 2]                    --\n",
       "│    └─Flatten: 2-7                      [1, 128]                  --\n",
       "│    └─Linear: 2-8                       [1, 2]                    258\n",
       "│    └─ReLU: 2-9                         [1, 2]                    --\n",
       "│    └─Dropout: 2-10                     [1, 2]                    --\n",
       "==========================================================================================\n",
       "Total params: 1,128,450\n",
       "Trainable params: 1,128,450\n",
       "Non-trainable params: 0\n",
       "Total mult-adds (Units.MEGABYTES): 19.53\n",
       "==========================================================================================\n",
       "Input size (MB): 0.19\n",
       "Forward/backward pass size (MB): 76.02\n",
       "Params size (MB): 2.15\n",
       "Estimated Total Size (MB): 78.36\n",
       "=========================================================================================="
      ]
     },
     "metadata": {},
     "execution_count": 11
    }
   ],
   "source": [
    "model = EEGTransformer(\n",
    "    embed_dim=MODEL[\"embed_dim\"],\n",
    "    num_heads=MODEL[\"num_heads\"],\n",
    "    num_block=MODEL[\"num_block\"],\n",
    "    num_class=MODEL[\"num_class\"],\n",
    "    seq_length=DATA[\"length\"],\n",
    "    mlp_dim=MODEL[\"mlp_dim\"],\n",
    "    dropout_p=MODEL[\"dropout_p\"],\n",
    ").to(device)\n",
    "\n",
    "summary(model, (1, DATA[\"channel\"], DATA[\"length\"]))"
   ]
  },
  {
   "cell_type": "markdown",
   "metadata": {
    "id": "67go2Qqs6Kaf"
   },
   "source": [
    "## Train"
   ]
  },
  {
   "cell_type": "code",
   "execution_count": 12,
   "metadata": {
    "vscode": {
     "languageId": "plaintext"
    },
    "id": "HqM0ZKSj6Kaf",
    "executionInfo": {
     "status": "ok",
     "timestamp": 1740494612255,
     "user_tz": -540,
     "elapsed": 8,
     "user": {
      "displayName": "박성진",
      "userId": "12080183397045109956"
     }
    }
   },
   "outputs": [],
   "source": [
    "def get_val_loss(model, criterion, val_loader, device):\n",
    "    \"\"\"Return validation loss\"\"\"\n",
    "    model.eval()\n",
    "    val_loss = 0\n",
    "\n",
    "    with torch.no_grad():\n",
    "        for signal, label in val_loader:\n",
    "            signal = signal.to(device)\n",
    "            label = label.to(device)\n",
    "            output = model(signal)\n",
    "\n",
    "            batch_loss = criterion(output, label)\n",
    "            val_loss += batch_loss.item()\n",
    "\n",
    "        return val_loss / len(val_loader)\n",
    "\n",
    "\n",
    "def train(model, optimizer, scheduler, criterion, train_loader, val_loader, device):\n",
    "    \"\"\"Train the model and return the best epoch\"\"\"\n",
    "    model_path = ARGS[\"model_path\"]\n",
    "    grad_step = ARGS[\"grad_step\"]\n",
    "    epoch_trange = trange(1, ARGS[\"epochs\"] + 1)\n",
    "    early_stopper = EarlyStopping(ARGS[\"patience\"], model_path)\n",
    "\n",
    "    model.zero_grad()\n",
    "\n",
    "    for epoch in epoch_trange:\n",
    "        model.train()\n",
    "        train_loss = 0\n",
    "        for batch_id, (signal, label) in enumerate(train_loader, start=1):\n",
    "\n",
    "            signal = signal.to(device)\n",
    "            label = label.to(device)\n",
    "            output = model(signal)\n",
    "\n",
    "            batch_loss = criterion(output, label)\n",
    "            train_loss += batch_loss.item()\n",
    "\n",
    "            batch_loss /= grad_step\n",
    "            batch_loss.backward()\n",
    "\n",
    "            # Gradient Accumulation\n",
    "            if batch_id % grad_step == 0:\n",
    "                optimizer.step()\n",
    "                model.zero_grad()\n",
    "\n",
    "        # Validate Training Epoch\n",
    "        train_loss /= len(train_loader)\n",
    "        val_loss = get_val_loss(model, criterion, val_loader, device)\n",
    "        tqdm.write(\n",
    "            f\"Epoch {epoch}, Train-Loss: {train_loss:.5f},  Val-Loss: {val_loss:.5f}\"\n",
    "        )\n",
    "\n",
    "        # Early stopping\n",
    "        if early_stopper.should_stop(val_loss, model, epoch):\n",
    "            break\n",
    "\n",
    "        # Learning Rate Scheduling\n",
    "        scheduler.step(train_loss)\n",
    "\n",
    "    check_point = early_stopper.check_point\n",
    "    tqdm.write(f\"\\n--Check point: [Epoch: {check_point}]\")\n",
    "\n",
    "    return check_point"
   ]
  },
  {
   "cell_type": "code",
   "execution_count": 13,
   "metadata": {
    "vscode": {
     "languageId": "plaintext"
    },
    "id": "e-lYedTB6Kag",
    "colab": {
     "base_uri": "https://localhost:8080/",
     "height": 141,
     "referenced_widgets": [
      "c27b51cb02674af7b6b6ab8db5eb2f14",
      "f8585b66293946e082ef2ad2b411abe5",
      "a42253df03884bd8a4ebd9a4db5b0d55",
      "c9a7ea9d0e3d4d8cb83732f0fd001037",
      "cd974919d854411d9904ee0291e6fb09",
      "61dfe87e34fa48e18ef45bde5a3409b0",
      "c60d4c49055a49d29f3de6d7c44a7410",
      "8c939355983741c3a75c0a6583a5e938",
      "f4bc11dbd716491886f069e519e0f770",
      "e9ecf29572f04253888a78c1ba61b5e5",
      "12805d2866854cf28450fbdc2ee7fd2d"
     ]
    },
    "executionInfo": {
     "status": "ok",
     "timestamp": 1740494675509,
     "user_tz": -540,
     "elapsed": 63054,
     "user": {
      "displayName": "박성진",
      "userId": "12080183397045109956"
     }
    },
    "outputId": "d7163ce0-07fe-4f6d-c41f-bec9729c0300"
   },
   "outputs": [
    {
     "output_type": "display_data",
     "data": {
      "text/plain": [
       "  0%|          | 0/3 [00:00<?, ?it/s]"
      ],
      "application/vnd.jupyter.widget-view+json": {
       "version_major": 2,
       "version_minor": 0,
       "model_id": "c27b51cb02674af7b6b6ab8db5eb2f14"
      }
     },
     "metadata": {}
    },
    {
     "output_type": "stream",
     "name": "stdout",
     "text": [
      "Epoch 1, Train-Loss: 0.70245,  Val-Loss: 0.69343\n",
      "Epoch 2, Train-Loss: 0.69059,  Val-Loss: 0.69263\n",
      "Epoch 3, Train-Loss: 0.69030,  Val-Loss: 0.69426\n",
      "\n",
      "--Check point: [Epoch: 2]\n"
     ]
    }
   ],
   "source": [
    "clear_cache()\n",
    "\n",
    "loss_fn = nn.CrossEntropyLoss().to(device)\n",
    "optimizer = optim.Adam(\n",
    "    model.parameters(),\n",
    "    lr=ARGS[\"lr\"],\n",
    "    weight_decay=ARGS[\"weight_decay\"],\n",
    ")\n",
    "scheduler = WarmupScheduler(optimizer, ARGS[\"lr\"], warmup_steps=ARGS[\"warmup_steps\"])\n",
    "check_point = train(\n",
    "    model, optimizer, scheduler, loss_fn, train_dataloader, val_dataloader, device\n",
    ")"
   ]
  },
  {
   "cell_type": "code",
   "source": [
    "clear_cache()\n",
    "\n",
    "# Model without Dropout(p=0.0) for inference\n",
    "model = EEGTransformer(\n",
    "    embed_dim=MODEL[\"embed_dim\"],\n",
    "    num_heads=MODEL[\"num_heads\"],\n",
    "    num_block=MODEL[\"num_block\"],\n",
    "    num_class=MODEL[\"num_class\"],\n",
    "    seq_length=DATA[\"length\"],\n",
    "    mlp_dim=MODEL[\"mlp_dim\"],\n",
    "    dropout_p=0.0,\n",
    ").to(device)\n",
    "trained_weights = torch.load(ARGS[\"model_path\"], weights_only=True, map_location=device)\n",
    "model.load_state_dict(trained_weights)"
   ],
   "metadata": {
    "colab": {
     "base_uri": "https://localhost:8080/"
    },
    "id": "w6Y1YDBEdA7Y",
    "executionInfo": {
     "status": "ok",
     "timestamp": 1740494675743,
     "user_tz": -540,
     "elapsed": 236,
     "user": {
      "displayName": "박성진",
      "userId": "12080183397045109956"
     }
    },
    "outputId": "ff2ca20d-b149-49cc-9867-7a90bfc8fa39"
   },
   "execution_count": 14,
   "outputs": [
    {
     "output_type": "execute_result",
     "data": {
      "text/plain": [
       "<All keys matched successfully>"
      ]
     },
     "metadata": {},
     "execution_count": 14
    }
   ]
  },
  {
   "cell_type": "markdown",
   "metadata": {
    "id": "gUV_V_FW6Kag"
   },
   "source": [
    "## Evaluate"
   ]
  },
  {
   "cell_type": "code",
   "execution_count": 15,
   "metadata": {
    "vscode": {
     "languageId": "plaintext"
    },
    "id": "e_24QG2C6Kag",
    "executionInfo": {
     "status": "ok",
     "timestamp": 1740494675759,
     "user_tz": -540,
     "elapsed": 15,
     "user": {
      "displayName": "박성진",
      "userId": "12080183397045109956"
     }
    }
   },
   "outputs": [],
   "source": [
    "def evaluate(model, test_loader, device):\n",
    "    \"\"\"Return metrics for test set\n",
    "\n",
    "    :returns metrics: { accuracy, f1-score, auc, roc-curve(fpr, tpr) }\n",
    "    \"\"\"\n",
    "    model.eval()\n",
    "    y_pred = list()\n",
    "    y_true = list()\n",
    "\n",
    "    with torch.no_grad():\n",
    "        for signal, label in test_loader:\n",
    "            signal = signal.to(device)\n",
    "            output = model(signal)\n",
    "\n",
    "            y_pred.extend(output.argmax(1).detach().cpu().numpy())\n",
    "            y_true.extend(label.numpy())\n",
    "\n",
    "        accuracy = accuracy_score(y_true, y_pred)\n",
    "        f1 = f1_score(y_true, y_pred)\n",
    "        fpr, tpr, _ = roc_curve(y_true, y_pred)\n",
    "        auc_value = auc(fpr, tpr)\n",
    "\n",
    "        return {\n",
    "            \"accuracy\": accuracy,\n",
    "            \"f1-score\": f1,\n",
    "            \"auc\": auc_value,\n",
    "            \"roc-curve\": (fpr, tpr),\n",
    "        }"
   ]
  },
  {
   "cell_type": "code",
   "execution_count": 16,
   "metadata": {
    "vscode": {
     "languageId": "plaintext"
    },
    "id": "Jz2iOR7O6Kag",
    "colab": {
     "base_uri": "https://localhost:8080/"
    },
    "executionInfo": {
     "status": "ok",
     "timestamp": 1740494677554,
     "user_tz": -540,
     "elapsed": 1794,
     "user": {
      "displayName": "박성진",
      "userId": "12080183397045109956"
     }
    },
    "outputId": "121f127f-42d5-4974-8914-856fc9f3dc95"
   },
   "outputs": [
    {
     "output_type": "stream",
     "name": "stdout",
     "text": [
      "Accuracy: 0.440\n",
      "F1-Score: 0.000\n",
      "AUC: 0.500\n"
     ]
    }
   ],
   "source": [
    "metrics = evaluate(model, test_dataloader, device)\n",
    "\n",
    "print(f\"Accuracy: {metrics['accuracy']:.3f}\")\n",
    "print(f\"F1-Score: {metrics['f1-score']:.3f}\")\n",
    "print(f\"AUC: {metrics['auc']:.3f}\")"
   ]
  },
  {
   "cell_type": "code",
   "execution_count": 17,
   "metadata": {
    "vscode": {
     "languageId": "plaintext"
    },
    "id": "EphBE3Yq6Kag",
    "colab": {
     "base_uri": "https://localhost:8080/",
     "height": 564
    },
    "executionInfo": {
     "status": "ok",
     "timestamp": 1740494677905,
     "user_tz": -540,
     "elapsed": 349,
     "user": {
      "displayName": "박성진",
      "userId": "12080183397045109956"
     }
    },
    "outputId": "072e7d2c-a086-4c24-f2e4-a42d28827c54"
   },
   "outputs": [
    {
     "output_type": "display_data",
     "data": {
      "text/plain": [
       "<Figure size 600x600 with 1 Axes>"
      ],
      "image/png": "[encoded data removed]"
     },
     "metadata": {}
    }
   ],
   "source": [
    "# Visualize ROC curve\n",
    "plt.figure(figsize=(6, 6))\n",
    "plt.plot(*metrics[\"roc-curve\"], color=\"blue\")\n",
    "plt.plot([0, 1], [0, 1], color=\"grey\", linestyle=\"--\")  # Baseline\n",
    "\n",
    "plt.xlim([0.0, 1.0])\n",
    "plt.ylim([0.0, 1.05])\n",
    "plt.xlabel(\"False Positive Rate\")\n",
    "plt.ylabel(\"True Positive Rate\")\n",
    "plt.title(\"ROC Curve\")\n",
    "plt.grid()\n",
    "plt.show()"
   ]
  },
  {
   "cell_type": "markdown",
   "metadata": {
    "id": "QL45_78D6Kag"
   },
   "source": [
    "## Log"
   ]
  },
  {
   "metadata": {
    "vscode": {
     "languageId": "plaintext"
    },
    "id": "E3KIAiYn6Kag",
    "colab": {
     "base_uri": "https://localhost:8080/"
    },
    "executionInfo": {
     "status": "ok",
     "timestamp": 1740494677917,
     "user_tz": -540,
     "elapsed": 10,
     "user": {
      "displayName": "박성진",
      "userId": "12080183397045109956"
     }
    },
    "outputId": "49c0ab22-88b0-4f2f-ed36-fb3c8206e3de"
   },
   "cell_type": "code",
   "outputs": [
    {
     "output_type": "stream",
     "name": "stdout",
     "text": [
      "id: 250225144330444859\n",
      "name: prototype\n",
      "weights: /content/drive/MyDrive/log/prototype_250225144330444859.pth\n",
      "batch: (64, 1)\n",
      "lr: 0.0001\n",
      "epochs: 2\n",
      "num_heads: 4\n",
      "num_block: 4\n",
      "num_class: 2\n",
      "mlp_dim: 512\n",
      "dropout_p: 0.5\n",
      "warmup_steps: 1\n",
      "weight_decay: 0.01\n",
      "accuracy: 0.44025157232704404\n",
      "f1-score: 0.0\n",
      "auc: 0.5\n"
     ]
    }
   ],
   "execution_count": 18,
   "source": [
    "# Log experiment result in json format\n",
    "experiment_result = {\n",
    "    \"id\": ARGS[\"id\"],\n",
    "    \"name\": ARGS[\"name\"],\n",
    "    \"weights\": ARGS[\"model_path\"],\n",
    "    \"batch\": (\n",
    "        ARGS[\"batch\"],\n",
    "        ARGS[\"grad_step\"],\n",
    "    ),  # Batch size with Gradient Accumulation\n",
    "    \"lr\": ARGS[\"lr\"],\n",
    "    \"epochs\": check_point,\n",
    "    \"num_heads\": MODEL[\"num_heads\"],\n",
    "    \"num_block\": MODEL[\"num_block\"],\n",
    "    \"num_class\": MODEL[\"num_class\"],\n",
    "    \"mlp_dim\": MODEL[\"mlp_dim\"],\n",
    "    \"dropout_p\": MODEL[\"dropout_p\"],\n",
    "    \"warmup_steps\": ARGS[\"warmup_steps\"],\n",
    "    \"weight_decay\": ARGS[\"weight_decay\"],\n",
    "    \"accuracy\": metrics[\"accuracy\"],\n",
    "    \"f1-score\": metrics[\"f1-score\"],\n",
    "    \"auc\": metrics[\"auc\"],\n",
    "}\n",
    "\n",
    "for key, value in experiment_result.items():\n",
    "    print(f\"{key}: {value}\")\n",
    "\n",
    "# Save result in json format\n",
    "with open(join_path(\"log\", f\"{ARGS['name']}_{ARGS['id']}.json\"), \"w\") as f:\n",
    "    json.dump(experiment_result, f, indent=2)"
   ]
  }
 ],
 "metadata": {
  "language_info": {
   "name": "python"
  },
  "colab": {
   "provenance": [],
   "gpuType": "T4"
  },
  "kernelspec": {
   "name": "python3",
   "display_name": "Python 3"
  },
  "accelerator": "GPU",
  "widgets": {
   "application/vnd.jupyter.widget-state+json": {
    "c27b51cb02674af7b6b6ab8db5eb2f14": {
     "model_module": "@jupyter-widgets/controls",
     "model_name": "HBoxModel",
     "model_module_version": "1.5.0",
     "state": {
      "_dom_classes": [],
      "_model_module": "@jupyter-widgets/controls",
      "_model_module_version": "1.5.0",
      "_model_name": "HBoxModel",
      "_view_count": null,
      "_view_module": "@jupyter-widgets/controls",
      "_view_module_version": "1.5.0",
      "_view_name": "HBoxView",
      "box_style": "",
      "children": [
       "IPY_MODEL_f8585b66293946e082ef2ad2b411abe5",
       "IPY_MODEL_a42253df03884bd8a4ebd9a4db5b0d55",
       "IPY_MODEL_c9a7ea9d0e3d4d8cb83732f0fd001037"
      ],
      "layout": "IPY_MODEL_cd974919d854411d9904ee0291e6fb09"
     }
    },
    "f8585b66293946e082ef2ad2b411abe5": {
     "model_module": "@jupyter-widgets/controls",
     "model_name": "HTMLModel",
     "model_module_version": "1.5.0",
     "state": {
      "_dom_classes": [],
      "_model_module": "@jupyter-widgets/controls",
      "_model_module_version": "1.5.0",
      "_model_name": "HTMLModel",
      "_view_count": null,
      "_view_module": "@jupyter-widgets/controls",
      "_view_module_version": "1.5.0",
      "_view_name": "HTMLView",
      "description": "",
      "description_tooltip": null,
      "layout": "IPY_MODEL_61dfe87e34fa48e18ef45bde5a3409b0",
      "placeholder": "​",
      "style": "IPY_MODEL_c60d4c49055a49d29f3de6d7c44a7410",
      "value": "100%"
     }
    },
    "a42253df03884bd8a4ebd9a4db5b0d55": {
     "model_module": "@jupyter-widgets/controls",
     "model_name": "FloatProgressModel",
     "model_module_version": "1.5.0",
     "state": {
      "_dom_classes": [],
      "_model_module": "@jupyter-widgets/controls",
      "_model_module_version": "1.5.0",
      "_model_name": "FloatProgressModel",
      "_view_count": null,
      "_view_module": "@jupyter-widgets/controls",
      "_view_module_version": "1.5.0",
      "_view_name": "ProgressView",
      "bar_style": "success",
      "description": "",
      "description_tooltip": null,
      "layout": "IPY_MODEL_8c939355983741c3a75c0a6583a5e938",
      "max": 3,
      "min": 0,
      "orientation": "horizontal",
      "style": "IPY_MODEL_f4bc11dbd716491886f069e519e0f770",
      "value": 3
     }
    },
    "c9a7ea9d0e3d4d8cb83732f0fd001037": {
     "model_module": "@jupyter-widgets/controls",
     "model_name": "HTMLModel",
     "model_module_version": "1.5.0",
     "state": {
      "_dom_classes": [],
      "_model_module": "@jupyter-widgets/controls",
      "_model_module_version": "1.5.0",
      "_model_name": "HTMLModel",
      "_view_count": null,
      "_view_module": "@jupyter-widgets/controls",
      "_view_module_version": "1.5.0",
      "_view_name": "HTMLView",
      "description": "",
      "description_tooltip": null,
      "layout": "IPY_MODEL_e9ecf29572f04253888a78c1ba61b5e5",
      "placeholder": "​",
      "style": "IPY_MODEL_12805d2866854cf28450fbdc2ee7fd2d",
      "value": " 3/3 [01:00&lt;00:00, 20.23s/it]"
     }
    },
    "cd974919d854411d9904ee0291e6fb09": {
     "model_module": "@jupyter-widgets/base",
     "model_name": "LayoutModel",
     "model_module_version": "1.2.0",
     "state": {
      "_model_module": "@jupyter-widgets/base",
      "_model_module_version": "1.2.0",
      "_model_name": "LayoutModel",
      "_view_count": null,
      "_view_module": "@jupyter-widgets/base",
      "_view_module_version": "1.2.0",
      "_view_name": "LayoutView",
      "align_content": null,
      "align_items": null,
      "align_self": null,
      "border": null,
      "bottom": null,
      "display": null,
      "flex": null,
      "flex_flow": null,
      "grid_area": null,
      "grid_auto_columns": null,
      "grid_auto_flow": null,
      "grid_auto_rows": null,
      "grid_column": null,
      "grid_gap": null,
      "grid_row": null,
      "grid_template_areas": null,
      "grid_template_columns": null,
      "grid_template_rows": null,
      "height": null,
      "justify_content": null,
      "justify_items": null,
      "left": null,
      "margin": null,
      "max_height": null,
      "max_width": null,
      "min_height": null,
      "min_width": null,
      "object_fit": null,
      "object_position": null,
      "order": null,
      "overflow": null,
      "overflow_x": null,
      "overflow_y": null,
      "padding": null,
      "right": null,
      "top": null,
      "visibility": null,
      "width": null
     }
    },
    "61dfe87e34fa48e18ef45bde5a3409b0": {
     "model_module": "@jupyter-widgets/base",
     "model_name": "LayoutModel",
     "model_module_version": "1.2.0",
     "state": {
      "_model_module": "@jupyter-widgets/base",
      "_model_module_version": "1.2.0",
      "_model_name": "LayoutModel",
      "_view_count": null,
      "_view_module": "@jupyter-widgets/base",
      "_view_module_version": "1.2.0",
      "_view_name": "LayoutView",
      "align_content": null,
      "align_items": null,
      "align_self": null,
      "border": null,
      "bottom": null,
      "display": null,
      "flex": null,
      "flex_flow": null,
      "grid_area": null,
      "grid_auto_columns": null,
      "grid_auto_flow": null,
      "grid_auto_rows": null,
      "grid_column": null,
      "grid_gap": null,
      "grid_row": null,
      "grid_template_areas": null,
      "grid_template_columns": null,
      "grid_template_rows": null,
      "height": null,
      "justify_content": null,
      "justify_items": null,
      "left": null,
      "margin": null,
      "max_height": null,
      "max_width": null,
      "min_height": null,
      "min_width": null,
      "object_fit": null,
      "object_position": null,
      "order": null,
      "overflow": null,
      "overflow_x": null,
      "overflow_y": null,
      "padding": null,
      "right": null,
      "top": null,
      "visibility": null,
      "width": null
     }
    },
    "c60d4c49055a49d29f3de6d7c44a7410": {
     "model_module": "@jupyter-widgets/controls",
     "model_name": "DescriptionStyleModel",
     "model_module_version": "1.5.0",
     "state": {
      "_model_module": "@jupyter-widgets/controls",
      "_model_module_version": "1.5.0",
      "_model_name": "DescriptionStyleModel",
      "_view_count": null,
      "_view_module": "@jupyter-widgets/base",
      "_view_module_version": "1.2.0",
      "_view_name": "StyleView",
      "description_width": ""
     }
    },
    "8c939355983741c3a75c0a6583a5e938": {
     "model_module": "@jupyter-widgets/base",
     "model_name": "LayoutModel",
     "model_module_version": "1.2.0",
     "state": {
      "_model_module": "@jupyter-widgets/base",
      "_model_module_version": "1.2.0",
      "_model_name": "LayoutModel",
      "_view_count": null,
      "_view_module": "@jupyter-widgets/base",
      "_view_module_version": "1.2.0",
      "_view_name": "LayoutView",
      "align_content": null,
      "align_items": null,
      "align_self": null,
      "border": null,
      "bottom": null,
      "display": null,
      "flex": null,
      "flex_flow": null,
      "grid_area": null,
      "grid_auto_columns": null,
      "grid_auto_flow": null,
      "grid_auto_rows": null,
      "grid_column": null,
      "grid_gap": null,
      "grid_row": null,
      "grid_template_areas": null,
      "grid_template_columns": null,
      "grid_template_rows": null,
      "height": null,
      "justify_content": null,
      "justify_items": null,
      "left": null,
      "margin": null,
      "max_height": null,
      "max_width": null,
      "min_height": null,
      "min_width": null,
      "object_fit": null,
      "object_position": null,
      "order": null,
      "overflow": null,
      "overflow_x": null,
      "overflow_y": null,
      "padding": null,
      "right": null,
      "top": null,
      "visibility": null,
      "width": null
     }
    },
    "f4bc11dbd716491886f069e519e0f770": {
     "model_module": "@jupyter-widgets/controls",
     "model_name": "ProgressStyleModel",
     "model_module_version": "1.5.0",
     "state": {
      "_model_module": "@jupyter-widgets/controls",
      "_model_module_version": "1.5.0",
      "_model_name": "ProgressStyleModel",
      "_view_count": null,
      "_view_module": "@jupyter-widgets/base",
      "_view_module_version": "1.2.0",
      "_view_name": "StyleView",
      "bar_color": null,
      "description_width": ""
     }
    },
    "e9ecf29572f04253888a78c1ba61b5e5": {
     "model_module": "@jupyter-widgets/base",
     "model_name": "LayoutModel",
     "model_module_version": "1.2.0",
     "state": {
      "_model_module": "@jupyter-widgets/base",
      "_model_module_version": "1.2.0",
      "_model_name": "LayoutModel",
      "_view_count": null,
      "_view_module": "@jupyter-widgets/base",
      "_view_module_version": "1.2.0",
      "_view_name": "LayoutView",
      "align_content": null,
      "align_items": null,
      "align_self": null,
      "border": null,
      "bottom": null,
      "display": null,
      "flex": null,
      "flex_flow": null,
      "grid_area": null,
      "grid_auto_columns": null,
      "grid_auto_flow": null,
      "grid_auto_rows": null,
      "grid_column": null,
      "grid_gap": null,
      "grid_row": null,
      "grid_template_areas": null,
      "grid_template_columns": null,
      "grid_template_rows": null,
      "height": null,
      "justify_content": null,
      "justify_items": null,
      "left": null,
      "margin": null,
      "max_height": null,
      "max_width": null,
      "min_height": null,
      "min_width": null,
      "object_fit": null,
      "object_position": null,
      "order": null,
      "overflow": null,
      "overflow_x": null,
      "overflow_y": null,
      "padding": null,
      "right": null,
      "top": null,
      "visibility": null,
      "width": null
     }
    },
    "12805d2866854cf28450fbdc2ee7fd2d": {
     "model_module": "@jupyter-widgets/controls",
     "model_name": "DescriptionStyleModel",
     "model_module_version": "1.5.0",
     "state": {
      "_model_module": "@jupyter-widgets/controls",
      "_model_module_version": "1.5.0",
      "_model_name": "DescriptionStyleModel",
      "_view_count": null,
      "_view_module": "@jupyter-widgets/base",
      "_view_module_version": "1.2.0",
      "_view_name": "StyleView",
      "description_width": ""
     }
    }
   }
  }
 },
 "nbformat": 4,
 "nbformat_minor": 0
}
