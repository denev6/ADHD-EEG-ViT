{
 "cells": [
  {
   "cell_type": "markdown",
   "metadata": {
    "id": "m0YgkzHQ6KaY"
   },
   "source": [
    "# Transformer\n",
    "\n",
    "Train Base ViT model for IEEE EEG dataset"
   ]
  },
  {
   "metadata": {
    "vscode": {
     "languageId": "plaintext"
    },
    "colab": {
     "base_uri": "https://localhost:8080/"
    },
    "id": "gGK2yVT06Kab",
    "outputId": "7e0aea47-d8e0-41e3-e6aa-2952a275847c",
    "executionInfo": {
     "status": "ok",
     "timestamp": 1740724835729,
     "user_tz": -540,
     "elapsed": 1569,
     "user": {
      "displayName": "박성진",
      "userId": "12080183397045109956"
     }
    }
   },
   "cell_type": "code",
   "source": [
    "# Mount Google Drive for Colab env\n",
    "import sys\n",
    "from google.colab import drive\n",
    "\n",
    "drive.mount(\"/content/drive\", force_remount=False)\n",
    "sys.path.append(\"/content/drive/MyDrive\")"
   ],
   "outputs": [
    {
     "output_type": "stream",
     "name": "stdout",
     "text": [
      "Drive already mounted at /content/drive; to attempt to forcibly remount, call drive.mount(\"/content/drive\", force_remount=True).\n"
     ]
    }
   ],
   "execution_count": 1
  },
  {
   "metadata": {
    "colab": {
     "base_uri": "https://localhost:8080/"
    },
    "id": "mjpi0pVQB--k",
    "outputId": "6f1977ba-c09e-40f2-fecc-c33299b0ee53",
    "executionInfo": {
     "status": "ok",
     "timestamp": 1740724843224,
     "user_tz": -540,
     "elapsed": 7487,
     "user": {
      "displayName": "박성진",
      "userId": "12080183397045109956"
     }
    }
   },
   "cell_type": "code",
   "source": [
    "import torch\n",
    "import torch.nn as nn\n",
    "import torch.optim as optim\n",
    "from torch.utils.data import DataLoader\n",
    "\n",
    "from utils import (\n",
    "    ignore_warnings,\n",
    "    fix_random_seed,\n",
    "    device,\n",
    "    clear_cache,\n",
    "    join_drive_path,\n",
    "    log_json,\n",
    "    train,\n",
    "    WarmupScheduler,\n",
    "    evaluate,\n",
    "    Config,\n",
    "    IEEEDataConfig,\n",
    "    EEGDataset,\n",
    ")\n",
    "from models.transformer import TransformerConfig, ViTransformer\n",
    "\n",
    "ignore_warnings()\n",
    "fix_random_seed(42)\n",
    "device = device(force_cuda=True)\n",
    "print(\"Device:\", device)"
   ],
   "outputs": [
    {
     "output_type": "stream",
     "name": "stdout",
     "text": [
      "Device: cuda\n"
     ]
    }
   ],
   "execution_count": 2
  },
  {
   "metadata": {
    "colab": {
     "base_uri": "https://localhost:8080/"
    },
    "id": "2PZljW2RB--k",
    "outputId": "4eadf9b1-6279-47e6-b019-a20302016410",
    "executionInfo": {
     "status": "ok",
     "timestamp": 1740724843242,
     "user_tz": -540,
     "elapsed": 12,
     "user": {
      "displayName": "박성진",
      "userId": "12080183397045109956"
     }
    }
   },
   "cell_type": "code",
   "source": [
    "config = Config(\n",
    "    name=\"ieee transformer\",\n",
    "    batch=8,  # Cuda out of memory when batch=16.\n",
    "    epochs=50,\n",
    "    lr=1e-3,\n",
    "    enable_fp16=True,\n",
    "    grad_step=4,\n",
    "    warmup_steps=30,\n",
    "    lr_decay_factor=0.5,\n",
    "    weight_decay=1e-3,\n",
    "    patience=30,\n",
    ")\n",
    "data_config = IEEEDataConfig()\n",
    "model_config = TransformerConfig(\n",
    "    embed_dim=64,\n",
    "    num_heads=4,\n",
    "    num_blocks=4,\n",
    "    block_hidden_dim=64,\n",
    "    fc_hidden_dim=32,\n",
    "    dropout=0.1,\n",
    ")\n",
    "\n",
    "print(\"ID:\", config.id)\n",
    "print(\"Name:\", config.name)"
   ],
   "outputs": [
    {
     "output_type": "stream",
     "name": "stdout",
     "text": [
      "ID: 250228064042483872\n",
      "Name: ieee-transformer\n"
     ]
    }
   ],
   "execution_count": 3
  },
  {
   "metadata": {
    "id": "vZLePiZkB--k",
    "executionInfo": {
     "status": "ok",
     "timestamp": 1740724843590,
     "user_tz": -540,
     "elapsed": 345,
     "user": {
      "displayName": "박성진",
      "userId": "12080183397045109956"
     }
    }
   },
   "cell_type": "code",
   "outputs": [],
   "execution_count": 4,
   "source": [
    "train_data_path = join_drive_path(\"data\", data_config.train)\n",
    "val_data_path = join_drive_path(\"data\", data_config.val)\n",
    "\n",
    "train_dataset = EEGDataset(train_data_path)\n",
    "val_dataset = EEGDataset(val_data_path)\n",
    "\n",
    "train_dataloader = DataLoader(train_dataset, batch_size=config.batch, shuffle=True)\n",
    "val_dataloader = DataLoader(val_dataset, batch_size=config.batch)"
   ]
  },
  {
   "metadata": {
    "id": "V1C0SnUSB--k",
    "executionInfo": {
     "status": "ok",
     "timestamp": 1740724845237,
     "user_tz": -540,
     "elapsed": 1644,
     "user": {
      "displayName": "박성진",
      "userId": "12080183397045109956"
     }
    }
   },
   "cell_type": "code",
   "outputs": [],
   "execution_count": 5,
   "source": [
    "clear_cache()\n",
    "\n",
    "model = ViTransformer(\n",
    "    input_channel=data_config.channels,\n",
    "    seq_length=data_config.length,\n",
    "    embed_dim=model_config.embed_dim,\n",
    "    num_heads=model_config.num_heads,\n",
    "    num_blocks=model_config.num_blocks,\n",
    "    block_hidden_dim=model_config.block_hidden_dim,\n",
    "    fc_hidden_dim=model_config.fc_hidden_dim,\n",
    "    num_classes=data_config.num_classes,\n",
    "    dropout_p=model_config.dropout,\n",
    ").to(device)\n",
    "loss_fn = nn.CrossEntropyLoss().to(device)\n",
    "optimizer = optim.Adam(\n",
    "    model.parameters(),\n",
    "    lr=config.lr,\n",
    "    weight_decay=config.weight_decay,\n",
    ")\n",
    "scheduler = WarmupScheduler(\n",
    "    optimizer,\n",
    "    lr=config.lr,\n",
    "    warmup_steps=config.warmup_steps,\n",
    "    decay_factor=config.lr_decay_factor,\n",
    ")"
   ]
  },
  {
   "metadata": {
    "colab": {
     "base_uri": "https://localhost:8080/",
     "height": 952,
     "referenced_widgets": [
      "031eda52b20f4feb959a6f178224b2e4",
      "aa5a712f149044448e117d57dd36a842",
      "2abacb9adf294049a5d28e7b8cd1cec8",
      "6fc3ad678e274773b61f7bc5f830e6e1",
      "e8a029ac02ef4b92a1142ae350a763ef",
      "6eb2aa23906d420d9509fbd65bc10314",
      "6dae3f095ef344818de4885cc90039af",
      "181063048e71493d8cd0c8fad6f3d007",
      "4c93e86d6a6d454cadd4725a7a894397",
      "e1e7e6a5cd574e9e9c6d922ad5f1eec1",
      "d89ef34ec59546eda6b7b4d1cedc3102"
     ]
    },
    "id": "EiuDgm2qB--l",
    "outputId": "7abe98bb-4c47-407c-caae-63a7ef96acfd",
    "executionInfo": {
     "status": "ok",
     "timestamp": 1740725446513,
     "user_tz": -540,
     "elapsed": 601268,
     "user": {
      "displayName": "박성진",
      "userId": "12080183397045109956"
     }
    }
   },
   "cell_type": "code",
   "outputs": [
    {
     "output_type": "display_data",
     "data": {
      "text/plain": [
       "  0%|          | 0/50 [00:00<?, ?it/s]"
      ],
      "application/vnd.jupyter.widget-view+json": {
       "version_major": 2,
       "version_minor": 0,
       "model_id": "031eda52b20f4feb959a6f178224b2e4"
      }
     },
     "metadata": {}
    },
    {
     "output_type": "stream",
     "name": "stdout",
     "text": [
      "Epoch 1, Train-Loss: 0.72328,  Val-Loss: 0.67956\n",
      "Epoch 2, Train-Loss: 0.73014,  Val-Loss: 0.68445\n",
      "Epoch 3, Train-Loss: 0.70705,  Val-Loss: 0.69674\n",
      "Epoch 4, Train-Loss: 0.70976,  Val-Loss: 0.71050\n",
      "Epoch 5, Train-Loss: 0.68390,  Val-Loss: 0.72388\n",
      "Epoch 6, Train-Loss: 0.67660,  Val-Loss: 0.74137\n",
      "Epoch 7, Train-Loss: 0.63939,  Val-Loss: 0.75086\n",
      "Epoch 8, Train-Loss: 0.65832,  Val-Loss: 0.76308\n",
      "Epoch 9, Train-Loss: 0.65163,  Val-Loss: 0.76999\n",
      "Epoch 10, Train-Loss: 0.62273,  Val-Loss: 0.76319\n",
      "Epoch 11, Train-Loss: 0.65881,  Val-Loss: 0.74520\n",
      "Epoch 12, Train-Loss: 0.62677,  Val-Loss: 0.72024\n",
      "Epoch 13, Train-Loss: 0.66320,  Val-Loss: 0.70726\n",
      "Epoch 14, Train-Loss: 0.61327,  Val-Loss: 0.71010\n",
      "Epoch 15, Train-Loss: 0.60952,  Val-Loss: 0.72683\n",
      "Epoch 16, Train-Loss: 0.58185,  Val-Loss: 0.72119\n",
      "Epoch 17, Train-Loss: 0.60441,  Val-Loss: 0.71173\n",
      "Epoch 18, Train-Loss: 0.58476,  Val-Loss: 0.67124\n",
      "Epoch 19, Train-Loss: 0.52535,  Val-Loss: 0.69253\n",
      "Epoch 20, Train-Loss: 0.55655,  Val-Loss: 0.73503\n",
      "Epoch 21, Train-Loss: 0.51609,  Val-Loss: 0.74458\n",
      "Epoch 22, Train-Loss: 0.57793,  Val-Loss: 0.67172\n",
      "Epoch 23, Train-Loss: 0.49734,  Val-Loss: 0.64723\n",
      "Epoch 24, Train-Loss: 0.47181,  Val-Loss: 0.69531\n",
      "Epoch 25, Train-Loss: 0.48821,  Val-Loss: 0.70658\n",
      "Epoch 26, Train-Loss: 0.41271,  Val-Loss: 0.68968\n",
      "Epoch 27, Train-Loss: 0.42122,  Val-Loss: 0.65567\n",
      "Epoch 28, Train-Loss: 0.39382,  Val-Loss: 0.61329\n",
      "Epoch 29, Train-Loss: 0.37470,  Val-Loss: 0.73125\n",
      "Epoch 30, Train-Loss: 0.39638,  Val-Loss: 0.76330\n",
      "Epoch 31, Train-Loss: 0.34687,  Val-Loss: 0.59539\n",
      "Epoch 32, Train-Loss: 0.28137,  Val-Loss: 0.72785\n",
      "Epoch 33, Train-Loss: 0.28737,  Val-Loss: 0.73408\n",
      "Epoch 34, Train-Loss: 0.28104,  Val-Loss: 0.67419\n",
      "Epoch 35, Train-Loss: 0.23619,  Val-Loss: 0.64022\n",
      "Epoch 36, Train-Loss: 0.25049,  Val-Loss: 0.62850\n",
      "Epoch 37, Train-Loss: 0.27724,  Val-Loss: 0.62497\n",
      "Epoch 38, Train-Loss: 0.23242,  Val-Loss: 0.62543\n",
      "Epoch 39, Train-Loss: 0.24602,  Val-Loss: 0.62590\n",
      "Epoch 40, Train-Loss: 0.22384,  Val-Loss: 0.62633\n",
      "Epoch 41, Train-Loss: 0.24031,  Val-Loss: 0.62677\n",
      "Epoch 42, Train-Loss: 0.29480,  Val-Loss: 0.62696\n",
      "Epoch 43, Train-Loss: 0.27768,  Val-Loss: 0.62714\n",
      "Epoch 44, Train-Loss: 0.25048,  Val-Loss: 0.62741\n",
      "Epoch 45, Train-Loss: 0.23848,  Val-Loss: 0.62768\n",
      "Epoch 46, Train-Loss: 0.26762,  Val-Loss: 0.62802\n",
      "Epoch 47, Train-Loss: 0.28634,  Val-Loss: 0.62817\n",
      "Epoch 48, Train-Loss: 0.30299,  Val-Loss: 0.62830\n",
      "Epoch 49, Train-Loss: 0.27511,  Val-Loss: 0.62836\n",
      "Epoch 50, Train-Loss: 0.27042,  Val-Loss: 0.62849\n",
      "\n",
      "--Check point: [Epoch: 31]\n"
     ]
    }
   ],
   "execution_count": 6,
   "source": [
    "check_point = train(\n",
    "    model=model,\n",
    "    model_path=join_drive_path(\"log\", config.model_path),\n",
    "    device=device,\n",
    "    optimizer=optimizer,\n",
    "    criterion=loss_fn,\n",
    "    epochs=config.epochs,\n",
    "    train_loader=train_dataloader,\n",
    "    val_loader=val_dataloader,\n",
    "    gradient_step=config.grad_step,\n",
    "    patience=config.patience,\n",
    "    enable_fp16=config.enable_fp16,\n",
    "    scheduler=scheduler,\n",
    ")"
   ]
  },
  {
   "metadata": {
    "colab": {
     "base_uri": "https://localhost:8080/"
    },
    "id": "tjHEoS_iB--l",
    "outputId": "2805b1a2-99f6-4076-fc0e-21bfff98e161",
    "executionInfo": {
     "status": "ok",
     "timestamp": 1740725446795,
     "user_tz": -540,
     "elapsed": 96,
     "user": {
      "displayName": "박성진",
      "userId": "12080183397045109956"
     }
    }
   },
   "cell_type": "code",
   "source": [
    "clear_cache()\n",
    "\n",
    "trained_weights = torch.load(\n",
    "    join_drive_path(\"log\", config.model_path), weights_only=True, map_location=device\n",
    ")\n",
    "model.load_state_dict(trained_weights)"
   ],
   "outputs": [
    {
     "output_type": "execute_result",
     "data": {
      "text/plain": [
       "<All keys matched successfully>"
      ]
     },
     "metadata": {},
     "execution_count": 8
    }
   ],
   "execution_count": 8
  },
  {
   "metadata": {
    "colab": {
     "base_uri": "https://localhost:8080/"
    },
    "id": "VLOzzx9KB--l",
    "outputId": "02fff764-b007-4cbb-c7e2-e7ae3f47e565",
    "executionInfo": {
     "status": "ok",
     "timestamp": 1740725448784,
     "user_tz": -540,
     "elapsed": 2025,
     "user": {
      "displayName": "박성진",
      "userId": "12080183397045109956"
     }
    }
   },
   "cell_type": "code",
   "source": [
    "test_data_path = join_drive_path(\"data\", data_config.test)\n",
    "test_dataset = EEGDataset(test_data_path)\n",
    "test_dataloader = DataLoader(test_dataset, batch_size=config.batch)\n",
    "\n",
    "metrics = evaluate(model, device, test_dataloader, enable_fp16=config.enable_fp16)\n",
    "\n",
    "print(f\"Accuracy: {metrics['accuracy']:.3f}\")\n",
    "print(f\"F1-Score: {metrics['f1-score']:.3f}\")\n",
    "print(f\"Recall: {metrics['recall']:.3f}\")\n",
    "print(f\"AUC: {metrics['auc']:.3f}\")"
   ],
   "outputs": [
    {
     "output_type": "stream",
     "name": "stdout",
     "text": [
      "Accuracy: 0.972\n",
      "F1-Score: 0.976\n",
      "Recall: 0.952\n",
      "AUC: 0.976\n"
     ]
    }
   ],
   "execution_count": 9
  },
  {
   "metadata": {
    "vscode": {
     "languageId": "plaintext"
    },
    "id": "E3KIAiYn6Kag",
    "colab": {
     "base_uri": "https://localhost:8080/"
    },
    "outputId": "7a2e5dd7-a70f-456c-b20d-24f61f2330ba",
    "executionInfo": {
     "status": "ok",
     "timestamp": 1740725448784,
     "user_tz": -540,
     "elapsed": 8,
     "user": {
      "displayName": "박성진",
      "userId": "12080183397045109956"
     }
    }
   },
   "cell_type": "code",
   "outputs": [],
   "execution_count": null,
   "source": [
    "json_path = join_drive_path(\"log\", f\"{config.name}_{config.id}.json\")\n",
    "metrics_to_log = {\n",
    "    \"accuracy\": metrics[\"accuracy\"],\n",
    "    \"f1-score\": metrics[\"f1-score\"],\n",
    "    \"recall\": metrics[\"recall\"],\n",
    "    \"auc\": metrics[\"auc\"],\n",
    "}\n",
    "log_json(json_path, config, data_config, model_config, **metrics_to_log)"
   ]
  }
 ],
 "metadata": {
  "language_info": {
   "name": "python"
  },
  "colab": {
   "provenance": [],
   "gpuType": "T4"
  },
  "kernelspec": {
   "name": "python3",
   "display_name": "Python 3"
  },
  "accelerator": "GPU",
  "widgets": {
   "application/vnd.jupyter.widget-state+json": {
    "031eda52b20f4feb959a6f178224b2e4": {
     "model_module": "@jupyter-widgets/controls",
     "model_name": "HBoxModel",
     "model_module_version": "1.5.0",
     "state": {
      "_dom_classes": [],
      "_model_module": "@jupyter-widgets/controls",
      "_model_module_version": "1.5.0",
      "_model_name": "HBoxModel",
      "_view_count": null,
      "_view_module": "@jupyter-widgets/controls",
      "_view_module_version": "1.5.0",
      "_view_name": "HBoxView",
      "box_style": "",
      "children": [
       "IPY_MODEL_aa5a712f149044448e117d57dd36a842",
       "IPY_MODEL_2abacb9adf294049a5d28e7b8cd1cec8",
       "IPY_MODEL_6fc3ad678e274773b61f7bc5f830e6e1"
      ],
      "layout": "IPY_MODEL_e8a029ac02ef4b92a1142ae350a763ef"
     }
    },
    "aa5a712f149044448e117d57dd36a842": {
     "model_module": "@jupyter-widgets/controls",
     "model_name": "HTMLModel",
     "model_module_version": "1.5.0",
     "state": {
      "_dom_classes": [],
      "_model_module": "@jupyter-widgets/controls",
      "_model_module_version": "1.5.0",
      "_model_name": "HTMLModel",
      "_view_count": null,
      "_view_module": "@jupyter-widgets/controls",
      "_view_module_version": "1.5.0",
      "_view_name": "HTMLView",
      "description": "",
      "description_tooltip": null,
      "layout": "IPY_MODEL_6eb2aa23906d420d9509fbd65bc10314",
      "placeholder": "​",
      "style": "IPY_MODEL_6dae3f095ef344818de4885cc90039af",
      "value": "100%"
     }
    },
    "2abacb9adf294049a5d28e7b8cd1cec8": {
     "model_module": "@jupyter-widgets/controls",
     "model_name": "FloatProgressModel",
     "model_module_version": "1.5.0",
     "state": {
      "_dom_classes": [],
      "_model_module": "@jupyter-widgets/controls",
      "_model_module_version": "1.5.0",
      "_model_name": "FloatProgressModel",
      "_view_count": null,
      "_view_module": "@jupyter-widgets/controls",
      "_view_module_version": "1.5.0",
      "_view_name": "ProgressView",
      "bar_style": "success",
      "description": "",
      "description_tooltip": null,
      "layout": "IPY_MODEL_181063048e71493d8cd0c8fad6f3d007",
      "max": 50,
      "min": 0,
      "orientation": "horizontal",
      "style": "IPY_MODEL_4c93e86d6a6d454cadd4725a7a894397",
      "value": 50
     }
    },
    "6fc3ad678e274773b61f7bc5f830e6e1": {
     "model_module": "@jupyter-widgets/controls",
     "model_name": "HTMLModel",
     "model_module_version": "1.5.0",
     "state": {
      "_dom_classes": [],
      "_model_module": "@jupyter-widgets/controls",
      "_model_module_version": "1.5.0",
      "_model_name": "HTMLModel",
      "_view_count": null,
      "_view_module": "@jupyter-widgets/controls",
      "_view_module_version": "1.5.0",
      "_view_name": "HTMLView",
      "description": "",
      "description_tooltip": null,
      "layout": "IPY_MODEL_e1e7e6a5cd574e9e9c6d922ad5f1eec1",
      "placeholder": "​",
      "style": "IPY_MODEL_d89ef34ec59546eda6b7b4d1cedc3102",
      "value": " 50/50 [10:01&lt;00:00, 12.11s/it]"
     }
    },
    "e8a029ac02ef4b92a1142ae350a763ef": {
     "model_module": "@jupyter-widgets/base",
     "model_name": "LayoutModel",
     "model_module_version": "1.2.0",
     "state": {
      "_model_module": "@jupyter-widgets/base",
      "_model_module_version": "1.2.0",
      "_model_name": "LayoutModel",
      "_view_count": null,
      "_view_module": "@jupyter-widgets/base",
      "_view_module_version": "1.2.0",
      "_view_name": "LayoutView",
      "align_content": null,
      "align_items": null,
      "align_self": null,
      "border": null,
      "bottom": null,
      "display": null,
      "flex": null,
      "flex_flow": null,
      "grid_area": null,
      "grid_auto_columns": null,
      "grid_auto_flow": null,
      "grid_auto_rows": null,
      "grid_column": null,
      "grid_gap": null,
      "grid_row": null,
      "grid_template_areas": null,
      "grid_template_columns": null,
      "grid_template_rows": null,
      "height": null,
      "justify_content": null,
      "justify_items": null,
      "left": null,
      "margin": null,
      "max_height": null,
      "max_width": null,
      "min_height": null,
      "min_width": null,
      "object_fit": null,
      "object_position": null,
      "order": null,
      "overflow": null,
      "overflow_x": null,
      "overflow_y": null,
      "padding": null,
      "right": null,
      "top": null,
      "visibility": null,
      "width": null
     }
    },
    "6eb2aa23906d420d9509fbd65bc10314": {
     "model_module": "@jupyter-widgets/base",
     "model_name": "LayoutModel",
     "model_module_version": "1.2.0",
     "state": {
      "_model_module": "@jupyter-widgets/base",
      "_model_module_version": "1.2.0",
      "_model_name": "LayoutModel",
      "_view_count": null,
      "_view_module": "@jupyter-widgets/base",
      "_view_module_version": "1.2.0",
      "_view_name": "LayoutView",
      "align_content": null,
      "align_items": null,
      "align_self": null,
      "border": null,
      "bottom": null,
      "display": null,
      "flex": null,
      "flex_flow": null,
      "grid_area": null,
      "grid_auto_columns": null,
      "grid_auto_flow": null,
      "grid_auto_rows": null,
      "grid_column": null,
      "grid_gap": null,
      "grid_row": null,
      "grid_template_areas": null,
      "grid_template_columns": null,
      "grid_template_rows": null,
      "height": null,
      "justify_content": null,
      "justify_items": null,
      "left": null,
      "margin": null,
      "max_height": null,
      "max_width": null,
      "min_height": null,
      "min_width": null,
      "object_fit": null,
      "object_position": null,
      "order": null,
      "overflow": null,
      "overflow_x": null,
      "overflow_y": null,
      "padding": null,
      "right": null,
      "top": null,
      "visibility": null,
      "width": null
     }
    },
    "6dae3f095ef344818de4885cc90039af": {
     "model_module": "@jupyter-widgets/controls",
     "model_name": "DescriptionStyleModel",
     "model_module_version": "1.5.0",
     "state": {
      "_model_module": "@jupyter-widgets/controls",
      "_model_module_version": "1.5.0",
      "_model_name": "DescriptionStyleModel",
      "_view_count": null,
      "_view_module": "@jupyter-widgets/base",
      "_view_module_version": "1.2.0",
      "_view_name": "StyleView",
      "description_width": ""
     }
    },
    "181063048e71493d8cd0c8fad6f3d007": {
     "model_module": "@jupyter-widgets/base",
     "model_name": "LayoutModel",
     "model_module_version": "1.2.0",
     "state": {
      "_model_module": "@jupyter-widgets/base",
      "_model_module_version": "1.2.0",
      "_model_name": "LayoutModel",
      "_view_count": null,
      "_view_module": "@jupyter-widgets/base",
      "_view_module_version": "1.2.0",
      "_view_name": "LayoutView",
      "align_content": null,
      "align_items": null,
      "align_self": null,
      "border": null,
      "bottom": null,
      "display": null,
      "flex": null,
      "flex_flow": null,
      "grid_area": null,
      "grid_auto_columns": null,
      "grid_auto_flow": null,
      "grid_auto_rows": null,
      "grid_column": null,
      "grid_gap": null,
      "grid_row": null,
      "grid_template_areas": null,
      "grid_template_columns": null,
      "grid_template_rows": null,
      "height": null,
      "justify_content": null,
      "justify_items": null,
      "left": null,
      "margin": null,
      "max_height": null,
      "max_width": null,
      "min_height": null,
      "min_width": null,
      "object_fit": null,
      "object_position": null,
      "order": null,
      "overflow": null,
      "overflow_x": null,
      "overflow_y": null,
      "padding": null,
      "right": null,
      "top": null,
      "visibility": null,
      "width": null
     }
    },
    "4c93e86d6a6d454cadd4725a7a894397": {
     "model_module": "@jupyter-widgets/controls",
     "model_name": "ProgressStyleModel",
     "model_module_version": "1.5.0",
     "state": {
      "_model_module": "@jupyter-widgets/controls",
      "_model_module_version": "1.5.0",
      "_model_name": "ProgressStyleModel",
      "_view_count": null,
      "_view_module": "@jupyter-widgets/base",
      "_view_module_version": "1.2.0",
      "_view_name": "StyleView",
      "bar_color": null,
      "description_width": ""
     }
    },
    "e1e7e6a5cd574e9e9c6d922ad5f1eec1": {
     "model_module": "@jupyter-widgets/base",
     "model_name": "LayoutModel",
     "model_module_version": "1.2.0",
     "state": {
      "_model_module": "@jupyter-widgets/base",
      "_model_module_version": "1.2.0",
      "_model_name": "LayoutModel",
      "_view_count": null,
      "_view_module": "@jupyter-widgets/base",
      "_view_module_version": "1.2.0",
      "_view_name": "LayoutView",
      "align_content": null,
      "align_items": null,
      "align_self": null,
      "border": null,
      "bottom": null,
      "display": null,
      "flex": null,
      "flex_flow": null,
      "grid_area": null,
      "grid_auto_columns": null,
      "grid_auto_flow": null,
      "grid_auto_rows": null,
      "grid_column": null,
      "grid_gap": null,
      "grid_row": null,
      "grid_template_areas": null,
      "grid_template_columns": null,
      "grid_template_rows": null,
      "height": null,
      "justify_content": null,
      "justify_items": null,
      "left": null,
      "margin": null,
      "max_height": null,
      "max_width": null,
      "min_height": null,
      "min_width": null,
      "object_fit": null,
      "object_position": null,
      "order": null,
      "overflow": null,
      "overflow_x": null,
      "overflow_y": null,
      "padding": null,
      "right": null,
      "top": null,
      "visibility": null,
      "width": null
     }
    },
    "d89ef34ec59546eda6b7b4d1cedc3102": {
     "model_module": "@jupyter-widgets/controls",
     "model_name": "DescriptionStyleModel",
     "model_module_version": "1.5.0",
     "state": {
      "_model_module": "@jupyter-widgets/controls",
      "_model_module_version": "1.5.0",
      "_model_name": "DescriptionStyleModel",
      "_view_count": null,
      "_view_module": "@jupyter-widgets/base",
      "_view_module_version": "1.2.0",
      "_view_name": "StyleView",
      "description_width": ""
     }
    }
   }
  }
 },
 "nbformat": 4,
 "nbformat_minor": 0
}
