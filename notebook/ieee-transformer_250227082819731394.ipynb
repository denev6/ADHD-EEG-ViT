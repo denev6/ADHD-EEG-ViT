{
 "cells": [
  {
   "cell_type": "markdown",
   "metadata": {
    "id": "m0YgkzHQ6KaY"
   },
   "source": [
    "# Transformer\n",
    "\n",
    "Train Base ViT model for IEEE EEG dataset"
   ]
  },
  {
   "metadata": {
    "vscode": {
     "languageId": "plaintext"
    },
    "colab": {
     "base_uri": "https://localhost:8080/"
    },
    "id": "gGK2yVT06Kab",
    "outputId": "6ec58f8e-08cc-4e2e-8092-4c05d0794953"
   },
   "cell_type": "code",
   "source": [
    "# Mount Google Drive for Colab env\n",
    "import sys\n",
    "from google.colab import drive\n",
    "\n",
    "drive.mount(\"/content/drive\", force_remount=False)\n",
    "sys.path.append(\"/content/drive/MyDrive\")"
   ],
   "outputs": [
    {
     "output_type": "stream",
     "name": "stdout",
     "text": [
      "Drive already mounted at /content/drive; to attempt to forcibly remount, call drive.mount(\"/content/drive\", force_remount=True).\n"
     ]
    }
   ],
   "execution_count": 1
  },
  {
   "metadata": {
    "colab": {
     "base_uri": "https://localhost:8080/"
    },
    "id": "mjpi0pVQB--k",
    "outputId": "497e3a4c-3bc0-422f-8269-a0d8f4883027"
   },
   "cell_type": "code",
   "source": [
    "import torch\n",
    "import torch.nn as nn\n",
    "import torch.optim as optim\n",
    "from torch.utils.data import DataLoader\n",
    "\n",
    "from utils import (\n",
    "    ignore_warnings,\n",
    "    fix_random_seed,\n",
    "    device,\n",
    "    clear_cache,\n",
    "    join_drive_path,\n",
    "    log_json,\n",
    "    train,\n",
    "    evaluate,\n",
    "    Config,\n",
    "    IEEEDataConfig,\n",
    "    EEGDataset,\n",
    ")\n",
    "from models.transformer import TransformerConfig, ViTransformer\n",
    "\n",
    "ignore_warnings()\n",
    "fix_random_seed(42)\n",
    "device = device(force_cuda=True)\n",
    "print(\"Device:\", device)"
   ],
   "outputs": [
    {
     "output_type": "stream",
     "name": "stdout",
     "text": [
      "Device: cuda\n"
     ]
    }
   ],
   "execution_count": 2
  },
  {
   "metadata": {
    "colab": {
     "base_uri": "https://localhost:8080/"
    },
    "id": "2PZljW2RB--k",
    "outputId": "4ee0ea9c-d64d-4204-8f14-b40ab264f099"
   },
   "cell_type": "code",
   "source": [
    "config = Config(\n",
    "    name=\"ieee transformer\",\n",
    "    batch=8,\n",
    "    epochs=50,\n",
    "    lr=1e-3,\n",
    "    grad_step=2,\n",
    "    warmup_steps=30,\n",
    "    lr_decay_factor=2,\n",
    "    weight_decay=1e-3,\n",
    "    patience=30,\n",
    ")\n",
    "data_config = IEEEDataConfig()\n",
    "model_config = TransformerConfig(\n",
    "    embed_dim=64,\n",
    "    num_heads=4,\n",
    "    num_blocks=4,\n",
    "    block_hidden_dim=64,\n",
    "    fc_hidden_dim=32,\n",
    "    dropout=0.1,\n",
    ")\n",
    "\n",
    "print(\"ID:\", config.id)\n",
    "print(\"Name:\", config.name)"
   ],
   "outputs": [
    {
     "output_type": "stream",
     "name": "stdout",
     "text": [
      "ID: 250227082819731394\n",
      "Name: ieee-transformer\n"
     ]
    }
   ],
   "execution_count": 3
  },
  {
   "metadata": {
    "id": "vZLePiZkB--k"
   },
   "cell_type": "code",
   "outputs": [],
   "execution_count": 4,
   "source": [
    "train_data_path = join_drive_path(\"data\", data_config.train)\n",
    "val_data_path = join_drive_path(\"data\", data_config.val)\n",
    "\n",
    "train_dataset = EEGDataset(train_data_path)\n",
    "val_dataset = EEGDataset(val_data_path)\n",
    "\n",
    "train_dataloader = DataLoader(train_dataset, batch_size=config.batch, shuffle=True)\n",
    "val_dataloader = DataLoader(val_dataset, batch_size=config.batch)"
   ]
  },
  {
   "metadata": {
    "id": "V1C0SnUSB--k"
   },
   "cell_type": "code",
   "outputs": [],
   "execution_count": 5,
   "source": [
    "clear_cache()\n",
    "\n",
    "model = ViTransformer(\n",
    "    input_channel=data_config.channels,\n",
    "    seq_length=data_config.length,\n",
    "    embed_dim=model_config.embed_dim,\n",
    "    num_heads=model_config.num_heads,\n",
    "    num_blocks=model_config.num_blocks,\n",
    "    block_hidden_dim=model_config.block_hidden_dim,\n",
    "    fc_hidden_dim=model_config.fc_hidden_dim,\n",
    "    num_classes=data_config.num_classes,\n",
    "    dropout_p=model_config.dropout,\n",
    ").to(device)\n",
    "loss_fn = nn.CrossEntropyLoss().to(device)\n",
    "optimizer = optim.Adam(\n",
    "    model.parameters(),\n",
    "    lr=config.lr,\n",
    "    weight_decay=config.weight_decay,\n",
    ")"
   ]
  },
  {
   "metadata": {
    "colab": {
     "base_uri": "https://localhost:8080/",
     "height": 1000,
     "referenced_widgets": [
      "9fc8d2dc5d7945359792ff4be85c8fca",
      "c1cc223515ac48e29fd840a3eeb811ae",
      "50e7338fbc184f709b7ac82495c75f7f",
      "237bdf3863d14dcd9002ec422ffd942a",
      "ada5ef4e2d6b4498a14e49fa248d7a20",
      "2588b4abf0714dac88223a3a46d934a8",
      "a58c8accf40a43da935d7f4e85248853",
      "2675c06587d54b3ea9c2f079462fb2be",
      "b417dc623dc143ef829c84a44a80ca56",
      "3377867715be4de7a778e9813ab5e321",
      "8378653c03984c58ae95f4e2f48f01ca"
     ]
    },
    "id": "EiuDgm2qB--l",
    "outputId": "d0f43c25-d0e6-4e93-c2d0-802fa475c320"
   },
   "cell_type": "code",
   "source": [
    "check_point = train(\n",
    "    model=model,\n",
    "    model_path=join_drive_path(\"log\", config.model_path),\n",
    "    device=device,\n",
    "    optimizer=optimizer,\n",
    "    gradient_step=config.grad_step,\n",
    "    criterion=loss_fn,\n",
    "    epochs=config.epochs,\n",
    "    train_loader=train_dataloader,\n",
    "    val_loader=val_dataloader,\n",
    "    learning_rate=config.lr,\n",
    "    min_lr=1e-8,\n",
    "    warmup_steps=config.warmup_steps,\n",
    "    lr_decay_factor=config.lr_decay_factor,\n",
    "    patience=config.patience,\n",
    ")"
   ],
   "outputs": [
    {
     "output_type": "display_data",
     "data": {
      "text/plain": [
       "  0%|          | 0/50 [00:00<?, ?it/s]"
      ],
      "application/vnd.jupyter.widget-view+json": {
       "version_major": 2,
       "version_minor": 0,
       "model_id": "9fc8d2dc5d7945359792ff4be85c8fca"
      }
     },
     "metadata": {}
    },
    {
     "output_type": "stream",
     "name": "stdout",
     "text": [
      "Epoch 1, Train-Loss: 0.72046,  Val-Loss: 0.68152\n",
      "Epoch 2, Train-Loss: 0.72222,  Val-Loss: 0.69384\n",
      "Epoch 3, Train-Loss: 0.69556,  Val-Loss: 0.70985\n",
      "Epoch 4, Train-Loss: 0.69749,  Val-Loss: 0.72461\n",
      "Epoch 5, Train-Loss: 0.67572,  Val-Loss: 0.73123\n",
      "Epoch 6, Train-Loss: 0.66886,  Val-Loss: 0.74125\n",
      "Epoch 7, Train-Loss: 0.63411,  Val-Loss: 0.72936\n",
      "Epoch 8, Train-Loss: 0.65321,  Val-Loss: 0.74320\n",
      "Epoch 9, Train-Loss: 0.63364,  Val-Loss: 0.75853\n",
      "Epoch 10, Train-Loss: 0.60568,  Val-Loss: 0.72771\n",
      "Epoch 11, Train-Loss: 0.62832,  Val-Loss: 0.70706\n",
      "Epoch 12, Train-Loss: 0.61022,  Val-Loss: 0.68605\n",
      "Epoch 13, Train-Loss: 0.63782,  Val-Loss: 0.72742\n",
      "Epoch 14, Train-Loss: 0.57227,  Val-Loss: 0.71311\n",
      "Epoch 15, Train-Loss: 0.57045,  Val-Loss: 0.71467\n",
      "Epoch 16, Train-Loss: 0.53519,  Val-Loss: 0.68736\n",
      "Epoch 17, Train-Loss: 0.54855,  Val-Loss: 0.71036\n",
      "Epoch 18, Train-Loss: 0.54712,  Val-Loss: 0.64775\n",
      "Epoch 19, Train-Loss: 0.45137,  Val-Loss: 0.80003\n",
      "Epoch 20, Train-Loss: 0.50532,  Val-Loss: 0.67170\n",
      "Epoch 21, Train-Loss: 0.41909,  Val-Loss: 0.70256\n",
      "Epoch 22, Train-Loss: 0.47002,  Val-Loss: 0.64597\n",
      "Epoch 23, Train-Loss: 0.40030,  Val-Loss: 0.71595\n",
      "Epoch 24, Train-Loss: 0.35125,  Val-Loss: 0.64862\n",
      "Epoch 25, Train-Loss: 0.37997,  Val-Loss: 0.68931\n",
      "Epoch 26, Train-Loss: 0.31192,  Val-Loss: 0.66391\n",
      "Epoch 27, Train-Loss: 0.28243,  Val-Loss: 0.63483\n",
      "Epoch 28, Train-Loss: 0.25016,  Val-Loss: 0.66724\n",
      "Epoch 29, Train-Loss: 0.22340,  Val-Loss: 0.68561\n",
      "Epoch 30, Train-Loss: 0.23513,  Val-Loss: 0.59037\n",
      "Epoch 31, Train-Loss: 0.16282,  Val-Loss: 0.70190\n",
      "Epoch 32, Train-Loss: 0.14689,  Val-Loss: 0.60410\n",
      "Epoch 33, Train-Loss: 0.14706,  Val-Loss: 0.61954\n",
      "Epoch 34, Train-Loss: 0.13389,  Val-Loss: 0.65481\n",
      "Epoch 35, Train-Loss: 0.11000,  Val-Loss: 0.63098\n",
      "Epoch 36, Train-Loss: 0.12866,  Val-Loss: 0.61541\n",
      "Epoch 37, Train-Loss: 0.14293,  Val-Loss: 0.60656\n",
      "Epoch 38, Train-Loss: 0.10647,  Val-Loss: 0.60568\n",
      "Epoch 39, Train-Loss: 0.12265,  Val-Loss: 0.60506\n",
      "Epoch 40, Train-Loss: 0.10464,  Val-Loss: 0.60517\n",
      "Epoch 41, Train-Loss: 0.11500,  Val-Loss: 0.60550\n",
      "Epoch 42, Train-Loss: 0.16617,  Val-Loss: 0.60564\n",
      "Epoch 43, Train-Loss: 0.14558,  Val-Loss: 0.60564\n"
     ]
    },
    {
     "output_type": "error",
     "ename": "KeyboardInterrupt",
     "evalue": "",
     "traceback": [
      "\u001b[0;31m---------------------------------------------------------------------------\u001b[0m",
      "\u001b[0;31mKeyboardInterrupt\u001b[0m                         Traceback (most recent call last)",
      "\u001b[0;32m<ipython-input-6-2fed3540fa71>\u001b[0m in \u001b[0;36m<cell line: 0>\u001b[0;34m()\u001b[0m\n\u001b[0;32m----> 1\u001b[0;31m check_point = train(\n\u001b[0m\u001b[1;32m      2\u001b[0m     \u001b[0mmodel\u001b[0m\u001b[0;34m=\u001b[0m\u001b[0mmodel\u001b[0m\u001b[0;34m,\u001b[0m\u001b[0;34m\u001b[0m\u001b[0;34m\u001b[0m\u001b[0m\n\u001b[1;32m      3\u001b[0m     \u001b[0mmodel_path\u001b[0m\u001b[0;34m=\u001b[0m\u001b[0mjoin_drive_path\u001b[0m\u001b[0;34m(\u001b[0m\u001b[0;34m\"log\"\u001b[0m\u001b[0;34m,\u001b[0m \u001b[0mconfig\u001b[0m\u001b[0;34m.\u001b[0m\u001b[0mmodel_path\u001b[0m\u001b[0;34m)\u001b[0m\u001b[0;34m,\u001b[0m\u001b[0;34m\u001b[0m\u001b[0;34m\u001b[0m\u001b[0m\n\u001b[1;32m      4\u001b[0m     \u001b[0mdevice\u001b[0m\u001b[0;34m=\u001b[0m\u001b[0mdevice\u001b[0m\u001b[0;34m,\u001b[0m\u001b[0;34m\u001b[0m\u001b[0;34m\u001b[0m\u001b[0m\n\u001b[1;32m      5\u001b[0m     \u001b[0moptimizer\u001b[0m\u001b[0;34m=\u001b[0m\u001b[0moptimizer\u001b[0m\u001b[0;34m,\u001b[0m\u001b[0;34m\u001b[0m\u001b[0;34m\u001b[0m\u001b[0m\n",
      "\u001b[0;32m/content/drive/MyDrive/utils/training.py\u001b[0m in \u001b[0;36mtrain\u001b[0;34m(model, model_path, device, optimizer, grad_step, criterion, epochs, train_loader, val_loader, initial_lr, min_lr, warmup_steps, lr_decay_factor, patience)\u001b[0m\n\u001b[1;32m    139\u001b[0m         \u001b[0;32mfor\u001b[0m \u001b[0mbatch_id\u001b[0m\u001b[0;34m,\u001b[0m \u001b[0;34m(\u001b[0m\u001b[0mdata\u001b[0m\u001b[0;34m,\u001b[0m \u001b[0mlabel\u001b[0m\u001b[0;34m)\u001b[0m \u001b[0;32min\u001b[0m \u001b[0menumerate\u001b[0m\u001b[0;34m(\u001b[0m\u001b[0mtrain_loader\u001b[0m\u001b[0;34m,\u001b[0m \u001b[0mstart\u001b[0m\u001b[0;34m=\u001b[0m\u001b[0;36m1\u001b[0m\u001b[0;34m)\u001b[0m\u001b[0;34m:\u001b[0m\u001b[0;34m\u001b[0m\u001b[0;34m\u001b[0m\u001b[0m\n\u001b[1;32m    140\u001b[0m \u001b[0;34m\u001b[0m\u001b[0m\n\u001b[0;32m--> 141\u001b[0;31m             \u001b[0mdata\u001b[0m \u001b[0;34m=\u001b[0m \u001b[0mdata\u001b[0m\u001b[0;34m.\u001b[0m\u001b[0mto\u001b[0m\u001b[0;34m(\u001b[0m\u001b[0mdevice\u001b[0m\u001b[0;34m)\u001b[0m\u001b[0;34m\u001b[0m\u001b[0;34m\u001b[0m\u001b[0m\n\u001b[0m\u001b[1;32m    142\u001b[0m             \u001b[0mlabel\u001b[0m \u001b[0;34m=\u001b[0m \u001b[0mlabel\u001b[0m\u001b[0;34m.\u001b[0m\u001b[0mto\u001b[0m\u001b[0;34m(\u001b[0m\u001b[0mdevice\u001b[0m\u001b[0;34m)\u001b[0m\u001b[0;34m\u001b[0m\u001b[0;34m\u001b[0m\u001b[0m\n\u001b[1;32m    143\u001b[0m             \u001b[0moutput\u001b[0m \u001b[0;34m=\u001b[0m \u001b[0mmodel\u001b[0m\u001b[0;34m(\u001b[0m\u001b[0mdata\u001b[0m\u001b[0;34m)\u001b[0m\u001b[0;34m\u001b[0m\u001b[0;34m\u001b[0m\u001b[0m\n",
      "\u001b[0;31mKeyboardInterrupt\u001b[0m: "
     ]
    }
   ],
   "execution_count": 6
  },
  {
   "cell_type": "code",
   "source": [
    "config.epochs = 30  # Interrupt manually"
   ],
   "metadata": {
    "id": "u0XFZZ0Ioodf"
   },
   "execution_count": 7,
   "outputs": []
  },
  {
   "metadata": {
    "colab": {
     "base_uri": "https://localhost:8080/"
    },
    "id": "tjHEoS_iB--l",
    "outputId": "4c5a950a-e2a1-40bc-c945-c64802b69739"
   },
   "cell_type": "code",
   "source": [
    "clear_cache()\n",
    "\n",
    "trained_weights = torch.load(\n",
    "    join_drive_path(\"log\", config.model_path), weights_only=True, map_location=device\n",
    ")\n",
    "model.load_state_dict(trained_weights)"
   ],
   "outputs": [
    {
     "output_type": "execute_result",
     "data": {
      "text/plain": [
       "<All keys matched successfully>"
      ]
     },
     "metadata": {},
     "execution_count": 8
    }
   ],
   "execution_count": 8
  },
  {
   "metadata": {
    "colab": {
     "base_uri": "https://localhost:8080/"
    },
    "id": "VLOzzx9KB--l",
    "outputId": "467b81b4-d3ec-4ec9-8f90-d129d1b9c6c1"
   },
   "cell_type": "code",
   "source": [
    "test_data_path = join_drive_path(\"data\", data_config.test)\n",
    "test_dataset = EEGDataset(test_data_path)\n",
    "test_dataloader = DataLoader(test_dataset, batch_size=config.batch)\n",
    "\n",
    "metrics = evaluate(model, device, test_dataloader)\n",
    "\n",
    "print(f\"Accuracy: {metrics['accuracy']:.3f}\")\n",
    "print(f\"F1-Score: {metrics['f1-score']:.3f}\")\n",
    "print(f\"Recall: {metrics['recall']:.3f}\")\n",
    "print(f\"AUC: {metrics['auc']:.3f}\")"
   ],
   "outputs": [
    {
     "output_type": "stream",
     "name": "stdout",
     "text": [
      "Accuracy: 0.944\n",
      "F1-Score: 0.952\n",
      "Recall: 0.952\n",
      "AUC: 0.943\n"
     ]
    }
   ],
   "execution_count": 9
  },
  {
   "metadata": {
    "vscode": {
     "languageId": "plaintext"
    },
    "id": "E3KIAiYn6Kag",
    "colab": {
     "base_uri": "https://localhost:8080/"
    },
    "outputId": "835b4feb-4e4b-4121-a50e-a7e306e8a556"
   },
   "cell_type": "code",
   "source": [
    "json_path = join_drive_path(\"log\", f\"{config.name}_{config.id}.json\")\n",
    "metrics_to_log = {\n",
    "    \"accuracy\": metrics[\"accuracy\"],\n",
    "    \"f1-score\": metrics[\"f1-score\"],\n",
    "    \"recall\": metrics[\"recall\"],\n",
    "    \"auc\": metrics[\"auc\"],\n",
    "}\n",
    "log_json(json_path, config, data_config, model_config, **metrics_to_log)"
   ],
   "outputs": [
    {
     "output_type": "execute_result",
     "data": {
      "text/plain": [
       "{'id': '250227082819731394',\n",
       " 'name': 'ieee-transformer',\n",
       " 'model_path': 'ieee-transformer_250227082819731394.pt',\n",
       " 'batch': 8,\n",
       " 'epochs': 30,\n",
       " 'lr': 0.001,\n",
       " 'grad_step': 2,\n",
       " 'warmup_steps': 30,\n",
       " 'lr_decay_factor': 2,\n",
       " 'weight_decay': 0.001,\n",
       " 'patience': 30,\n",
       " 'embed_dim': 64,\n",
       " 'num_heads': 4,\n",
       " 'num_blocks': 4,\n",
       " 'block_hidden_dim': 64,\n",
       " 'fc_hidden_dim': 32,\n",
       " 'dropout': 0.1,\n",
       " 'accuracy': 0.9444444444444444,\n",
       " 'f1-score': 0.9523809523809523,\n",
       " 'recall': 0.9523809523809523,\n",
       " 'auc': 0.9428571428571428}"
      ]
     },
     "metadata": {},
     "execution_count": 10
    }
   ],
   "execution_count": 10
  }
 ],
 "metadata": {
  "language_info": {
   "name": "python"
  },
  "colab": {
   "provenance": [],
   "gpuType": "T4"
  },
  "kernelspec": {
   "name": "python3",
   "display_name": "Python 3"
  },
  "accelerator": "GPU",
  "widgets": {
   "application/vnd.jupyter.widget-state+json": {
    "9fc8d2dc5d7945359792ff4be85c8fca": {
     "model_module": "@jupyter-widgets/controls",
     "model_name": "HBoxModel",
     "model_module_version": "1.5.0",
     "state": {
      "_dom_classes": [],
      "_model_module": "@jupyter-widgets/controls",
      "_model_module_version": "1.5.0",
      "_model_name": "HBoxModel",
      "_view_count": null,
      "_view_module": "@jupyter-widgets/controls",
      "_view_module_version": "1.5.0",
      "_view_name": "HBoxView",
      "box_style": "",
      "children": [
       "IPY_MODEL_c1cc223515ac48e29fd840a3eeb811ae",
       "IPY_MODEL_50e7338fbc184f709b7ac82495c75f7f",
       "IPY_MODEL_237bdf3863d14dcd9002ec422ffd942a"
      ],
      "layout": "IPY_MODEL_ada5ef4e2d6b4498a14e49fa248d7a20"
     }
    },
    "c1cc223515ac48e29fd840a3eeb811ae": {
     "model_module": "@jupyter-widgets/controls",
     "model_name": "HTMLModel",
     "model_module_version": "1.5.0",
     "state": {
      "_dom_classes": [],
      "_model_module": "@jupyter-widgets/controls",
      "_model_module_version": "1.5.0",
      "_model_name": "HTMLModel",
      "_view_count": null,
      "_view_module": "@jupyter-widgets/controls",
      "_view_module_version": "1.5.0",
      "_view_name": "HTMLView",
      "description": "",
      "description_tooltip": null,
      "layout": "IPY_MODEL_2588b4abf0714dac88223a3a46d934a8",
      "placeholder": "​",
      "style": "IPY_MODEL_a58c8accf40a43da935d7f4e85248853",
      "value": " 86%"
     }
    },
    "50e7338fbc184f709b7ac82495c75f7f": {
     "model_module": "@jupyter-widgets/controls",
     "model_name": "FloatProgressModel",
     "model_module_version": "1.5.0",
     "state": {
      "_dom_classes": [],
      "_model_module": "@jupyter-widgets/controls",
      "_model_module_version": "1.5.0",
      "_model_name": "FloatProgressModel",
      "_view_count": null,
      "_view_module": "@jupyter-widgets/controls",
      "_view_module_version": "1.5.0",
      "_view_name": "ProgressView",
      "bar_style": "danger",
      "description": "",
      "description_tooltip": null,
      "layout": "IPY_MODEL_2675c06587d54b3ea9c2f079462fb2be",
      "max": 50,
      "min": 0,
      "orientation": "horizontal",
      "style": "IPY_MODEL_b417dc623dc143ef829c84a44a80ca56",
      "value": 43
     }
    },
    "237bdf3863d14dcd9002ec422ffd942a": {
     "model_module": "@jupyter-widgets/controls",
     "model_name": "HTMLModel",
     "model_module_version": "1.5.0",
     "state": {
      "_dom_classes": [],
      "_model_module": "@jupyter-widgets/controls",
      "_model_module_version": "1.5.0",
      "_model_name": "HTMLModel",
      "_view_count": null,
      "_view_module": "@jupyter-widgets/controls",
      "_view_module_version": "1.5.0",
      "_view_name": "HTMLView",
      "description": "",
      "description_tooltip": null,
      "layout": "IPY_MODEL_3377867715be4de7a778e9813ab5e321",
      "placeholder": "​",
      "style": "IPY_MODEL_8378653c03984c58ae95f4e2f48f01ca",
      "value": " 43/50 [31:43&lt;05:08, 44.06s/it]"
     }
    },
    "ada5ef4e2d6b4498a14e49fa248d7a20": {
     "model_module": "@jupyter-widgets/base",
     "model_name": "LayoutModel",
     "model_module_version": "1.2.0",
     "state": {
      "_model_module": "@jupyter-widgets/base",
      "_model_module_version": "1.2.0",
      "_model_name": "LayoutModel",
      "_view_count": null,
      "_view_module": "@jupyter-widgets/base",
      "_view_module_version": "1.2.0",
      "_view_name": "LayoutView",
      "align_content": null,
      "align_items": null,
      "align_self": null,
      "border": null,
      "bottom": null,
      "display": null,
      "flex": null,
      "flex_flow": null,
      "grid_area": null,
      "grid_auto_columns": null,
      "grid_auto_flow": null,
      "grid_auto_rows": null,
      "grid_column": null,
      "grid_gap": null,
      "grid_row": null,
      "grid_template_areas": null,
      "grid_template_columns": null,
      "grid_template_rows": null,
      "height": null,
      "justify_content": null,
      "justify_items": null,
      "left": null,
      "margin": null,
      "max_height": null,
      "max_width": null,
      "min_height": null,
      "min_width": null,
      "object_fit": null,
      "object_position": null,
      "order": null,
      "overflow": null,
      "overflow_x": null,
      "overflow_y": null,
      "padding": null,
      "right": null,
      "top": null,
      "visibility": null,
      "width": null
     }
    },
    "2588b4abf0714dac88223a3a46d934a8": {
     "model_module": "@jupyter-widgets/base",
     "model_name": "LayoutModel",
     "model_module_version": "1.2.0",
     "state": {
      "_model_module": "@jupyter-widgets/base",
      "_model_module_version": "1.2.0",
      "_model_name": "LayoutModel",
      "_view_count": null,
      "_view_module": "@jupyter-widgets/base",
      "_view_module_version": "1.2.0",
      "_view_name": "LayoutView",
      "align_content": null,
      "align_items": null,
      "align_self": null,
      "border": null,
      "bottom": null,
      "display": null,
      "flex": null,
      "flex_flow": null,
      "grid_area": null,
      "grid_auto_columns": null,
      "grid_auto_flow": null,
      "grid_auto_rows": null,
      "grid_column": null,
      "grid_gap": null,
      "grid_row": null,
      "grid_template_areas": null,
      "grid_template_columns": null,
      "grid_template_rows": null,
      "height": null,
      "justify_content": null,
      "justify_items": null,
      "left": null,
      "margin": null,
      "max_height": null,
      "max_width": null,
      "min_height": null,
      "min_width": null,
      "object_fit": null,
      "object_position": null,
      "order": null,
      "overflow": null,
      "overflow_x": null,
      "overflow_y": null,
      "padding": null,
      "right": null,
      "top": null,
      "visibility": null,
      "width": null
     }
    },
    "a58c8accf40a43da935d7f4e85248853": {
     "model_module": "@jupyter-widgets/controls",
     "model_name": "DescriptionStyleModel",
     "model_module_version": "1.5.0",
     "state": {
      "_model_module": "@jupyter-widgets/controls",
      "_model_module_version": "1.5.0",
      "_model_name": "DescriptionStyleModel",
      "_view_count": null,
      "_view_module": "@jupyter-widgets/base",
      "_view_module_version": "1.2.0",
      "_view_name": "StyleView",
      "description_width": ""
     }
    },
    "2675c06587d54b3ea9c2f079462fb2be": {
     "model_module": "@jupyter-widgets/base",
     "model_name": "LayoutModel",
     "model_module_version": "1.2.0",
     "state": {
      "_model_module": "@jupyter-widgets/base",
      "_model_module_version": "1.2.0",
      "_model_name": "LayoutModel",
      "_view_count": null,
      "_view_module": "@jupyter-widgets/base",
      "_view_module_version": "1.2.0",
      "_view_name": "LayoutView",
      "align_content": null,
      "align_items": null,
      "align_self": null,
      "border": null,
      "bottom": null,
      "display": null,
      "flex": null,
      "flex_flow": null,
      "grid_area": null,
      "grid_auto_columns": null,
      "grid_auto_flow": null,
      "grid_auto_rows": null,
      "grid_column": null,
      "grid_gap": null,
      "grid_row": null,
      "grid_template_areas": null,
      "grid_template_columns": null,
      "grid_template_rows": null,
      "height": null,
      "justify_content": null,
      "justify_items": null,
      "left": null,
      "margin": null,
      "max_height": null,
      "max_width": null,
      "min_height": null,
      "min_width": null,
      "object_fit": null,
      "object_position": null,
      "order": null,
      "overflow": null,
      "overflow_x": null,
      "overflow_y": null,
      "padding": null,
      "right": null,
      "top": null,
      "visibility": null,
      "width": null
     }
    },
    "b417dc623dc143ef829c84a44a80ca56": {
     "model_module": "@jupyter-widgets/controls",
     "model_name": "ProgressStyleModel",
     "model_module_version": "1.5.0",
     "state": {
      "_model_module": "@jupyter-widgets/controls",
      "_model_module_version": "1.5.0",
      "_model_name": "ProgressStyleModel",
      "_view_count": null,
      "_view_module": "@jupyter-widgets/base",
      "_view_module_version": "1.2.0",
      "_view_name": "StyleView",
      "bar_color": null,
      "description_width": ""
     }
    },
    "3377867715be4de7a778e9813ab5e321": {
     "model_module": "@jupyter-widgets/base",
     "model_name": "LayoutModel",
     "model_module_version": "1.2.0",
     "state": {
      "_model_module": "@jupyter-widgets/base",
      "_model_module_version": "1.2.0",
      "_model_name": "LayoutModel",
      "_view_count": null,
      "_view_module": "@jupyter-widgets/base",
      "_view_module_version": "1.2.0",
      "_view_name": "LayoutView",
      "align_content": null,
      "align_items": null,
      "align_self": null,
      "border": null,
      "bottom": null,
      "display": null,
      "flex": null,
      "flex_flow": null,
      "grid_area": null,
      "grid_auto_columns": null,
      "grid_auto_flow": null,
      "grid_auto_rows": null,
      "grid_column": null,
      "grid_gap": null,
      "grid_row": null,
      "grid_template_areas": null,
      "grid_template_columns": null,
      "grid_template_rows": null,
      "height": null,
      "justify_content": null,
      "justify_items": null,
      "left": null,
      "margin": null,
      "max_height": null,
      "max_width": null,
      "min_height": null,
      "min_width": null,
      "object_fit": null,
      "object_position": null,
      "order": null,
      "overflow": null,
      "overflow_x": null,
      "overflow_y": null,
      "padding": null,
      "right": null,
      "top": null,
      "visibility": null,
      "width": null
     }
    },
    "8378653c03984c58ae95f4e2f48f01ca": {
     "model_module": "@jupyter-widgets/controls",
     "model_name": "DescriptionStyleModel",
     "model_module_version": "1.5.0",
     "state": {
      "_model_module": "@jupyter-widgets/controls",
      "_model_module_version": "1.5.0",
      "_model_name": "DescriptionStyleModel",
      "_view_count": null,
      "_view_module": "@jupyter-widgets/base",
      "_view_module_version": "1.2.0",
      "_view_name": "StyleView",
      "description_width": ""
     }
    }
   }
  }
 },
 "nbformat": 4,
 "nbformat_minor": 0
}
