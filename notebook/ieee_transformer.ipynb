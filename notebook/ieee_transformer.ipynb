{
  "cells": [
    {
      "cell_type": "code",
      "execution_count": null,
      "metadata": {
        "id": "gGK2yVT06Kab"
      },
      "outputs": [],
      "source": [
        "# Mount Google Drive for Colab env\n",
        "import sys\n",
        "from google.colab import drive\n",
        "\n",
        "drive.mount(\"/content/drive\", force_remount=False)\n",
        "sys.path.append(\"/content/drive/MyDrive\")"
      ]
    },
    {
      "cell_type": "code",
      "execution_count": null,
      "metadata": {
        "id": "mjpi0pVQB--k"
      },
      "outputs": [],
      "source": [
        "import torch\n",
        "import torch.nn as nn\n",
        "import torch.optim as optim\n",
        "from torch.utils.data import DataLoader\n",
        "\n",
        "from utils import (\n",
        "    ignore_warnings,\n",
        "    fix_random_seed,\n",
        "    device,\n",
        "    clear_cache,\n",
        "    join_drive_path,\n",
        "    log_json,\n",
        "    train_with_kfold,\n",
        "    WarmupScheduler,\n",
        "    evaluate,\n",
        "    Config,\n",
        "    IEEEDataConfig,\n",
        "    EEGDataset,\n",
        ")\n",
        "from models.transformer import TransformerConfig, ViTransformer\n",
        "\n",
        "ignore_warnings()\n",
        "fix_random_seed(42)\n",
        "device = device(force_cuda=True)\n",
        "print(\"Device:\", device)"
      ]
    },
    {
      "cell_type": "code",
      "execution_count": null,
      "metadata": {
        "id": "2PZljW2RB--k"
      },
      "outputs": [],
      "source": [
        "config = Config(\n",
        "    name=\"ieee transformer\",\n",
        "    batch=8,\n",
        "    epochs=50,\n",
        "    lr=1e-3,\n",
        "    enable_fp16=True,\n",
        "    grad_step=4,\n",
        "    warmup_steps=30,\n",
        "    lr_decay_factor=0.5,\n",
        "    weight_decay=1e-3,\n",
        "    patience=30,\n",
        ")\n",
        "config.add(k_folds=5)\n",
        "data_config = IEEEDataConfig()\n",
        "model_config = TransformerConfig(\n",
        "    embed_dim=64,\n",
        "    num_heads=4,\n",
        "    num_blocks=4,\n",
        "    block_hidden_dim=128,\n",
        "    fc_hidden_dim=32,\n",
        "    dropout=0.1,\n",
        ")\n",
        "\n",
        "print(\"ID:\", config.id)\n",
        "print(\"Name:\", config.name)"
      ]
    },
    {
      "cell_type": "code",
      "execution_count": null,
      "metadata": {
        "id": "vZLePiZkB--k"
      },
      "outputs": [],
      "source": [
        "train_data_path = join_drive_path(\"data\", data_config.train)\n",
        "val_data_path = join_drive_path(\"data\", data_config.val)\n",
        "\n",
        "train_data = torch.load(train_data_path, weights_only=True)\n",
        "val_data = torch.load(val_data_path, weights_only=True)\n",
        "\n",
        "# Concat Train-set and Validation-set for Cross validation\n",
        "signals = torch.cat([train_data[\"data\"], val_data[\"data\"]], dim=0)\n",
        "labels = torch.cat([train_data[\"label\"], val_data[\"label\"]], dim=0)\n",
        "\n",
        "train_dataset = EEGDataset({\"data\": signals, \"label\": labels})"
      ]
    },
    {
      "cell_type": "code",
      "execution_count": null,
      "metadata": {
        "id": "EiuDgm2qB--l"
      },
      "outputs": [],
      "source": [
        "model_param = {\n",
        "    \"input_channel\": data_config.channels,\n",
        "    \"seq_length\": data_config.length,\n",
        "    \"embed_dim\": model_config.embed_dim,\n",
        "    \"num_heads\": model_config.num_heads,\n",
        "    \"num_blocks\": model_config.num_blocks,\n",
        "    \"block_hidden_dim\": model_config.block_hidden_dim,\n",
        "    \"fc_hidden_dim\": model_config.fc_hidden_dim,\n",
        "    \"num_classes\": data_config.num_classes,\n",
        "    \"dropout_p\": model_config.dropout,\n",
        "}\n",
        "\n",
        "criterion = nn.CrossEntropyLoss()\n",
        "check_point, best_model_path = train_with_kfold(\n",
        "    k_folds=config.k_folds,\n",
        "    model_class=ViTransformer,\n",
        "    device=device,\n",
        "    model_path=config.model_path,\n",
        "    optimizer_class=optim.Adam,\n",
        "    criterion=criterion,\n",
        "    epochs=config.epochs,\n",
        "    train_dataset=train_dataset,\n",
        "    batch=config.batch,\n",
        "    gradient_step=config.grad_step,\n",
        "    patience=config.patience,\n",
        "    model_params=model_param,\n",
        "    optimizer_params={\"lr\": config.lr, \"weight_decay\": config.weight_decay},\n",
        "    enable_fp16=config.enable_fp16,\n",
        "    scheduler_class=WarmupScheduler,\n",
        "    scheduler_params={\n",
        "        \"lr\": config.lr,\n",
        "        \"warmup_steps\": config.warmup_steps,\n",
        "        \"decay_factor\": config.lr_decay_factor,\n",
        "    },\n",
        ")"
      ]
    },
    {
      "cell_type": "code",
      "execution_count": null,
      "metadata": {
        "id": "nOVmg86An-M4"
      },
      "outputs": [],
      "source": [
        "config.epochs = check_point\n",
        "config.model_path = best_model_path\n",
        "\n",
        "print(\"Best model path:\", join_drive_path(\"log\", config.model_path))\n",
        "print(\"Model checkpoint:\", config.epochs)"
      ]
    },
    {
      "cell_type": "code",
      "execution_count": null,
      "metadata": {
        "id": "tjHEoS_iB--l"
      },
      "outputs": [],
      "source": [
        "clear_cache()\n",
        "\n",
        "trained_weights = torch.load(\n",
        "    join_drive_path(\"log\", config.model_path), weights_only=True, map_location=device\n",
        ")\n",
        "model = ViTransformer(**model_param)\n",
        "model.load_state_dict(trained_weights)"
      ]
    },
    {
      "cell_type": "code",
      "execution_count": null,
      "metadata": {
        "id": "VLOzzx9KB--l"
      },
      "outputs": [],
      "source": [
        "test_data_path = join_drive_path(\"data\", data_config.test)\n",
        "test_dataset = EEGDataset(test_data_path)\n",
        "test_dataloader = DataLoader(test_dataset, batch_size=config.batch)\n",
        "\n",
        "metrics = evaluate(model, device, test_dataloader)\n",
        "\n",
        "print(f\"Accuracy: {metrics['accuracy']:.3f}\")\n",
        "print(f\"F1-Score: {metrics['f1-score']:.3f}\")\n",
        "print(f\"Recall: {metrics['recall']:.3f}\")\n",
        "print(f\"AUC: {metrics['auc']:.3f}\")"
      ]
    },
    {
      "cell_type": "code",
      "execution_count": null,
      "metadata": {
        "id": "E3KIAiYn6Kag"
      },
      "outputs": [],
      "source": [
        "json_path = join_drive_path(\"log\", f\"{config.name}_{config.id}.json\")\n",
        "log_json(\n",
        "    json_path, config=config, data=data_config, model=model_config, metrics=metrics\n",
        ")"
      ]
    }
  ],
  "metadata": {
    "accelerator": "GPU",
    "colab": {
      "gpuType": "T4",
      "provenance": []
    },
    "kernelspec": {
      "display_name": "Python 3",
      "name": "python3"
    },
    "language_info": {
      "name": "python"
    }
  },
  "nbformat": 4,
  "nbformat_minor": 0
}
