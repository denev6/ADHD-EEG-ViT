{
 "cells": [
  {
   "cell_type": "markdown",
   "metadata": {
    "id": "m0YgkzHQ6KaY"
   },
   "source": [
    "# Transformer\n",
    "\n",
    "Train Base ViT model for IEEE EEG dataset"
   ]
  },
  {
   "metadata": {
    "vscode": {
     "languageId": "plaintext"
    },
    "colab": {
     "base_uri": "https://localhost:8080/"
    },
    "id": "gGK2yVT06Kab",
    "outputId": "209b97da-b462-441e-9a48-f871982eb902",
    "executionInfo": {
     "status": "ok",
     "timestamp": 1740729447890,
     "user_tz": -540,
     "elapsed": 1576,
     "user": {
      "displayName": "박성진",
      "userId": "12080183397045109956"
     }
    }
   },
   "cell_type": "code",
   "source": [
    "# Mount Google Drive for Colab env\n",
    "import sys\n",
    "from google.colab import drive\n",
    "\n",
    "drive.mount(\"/content/drive\", force_remount=False)\n",
    "sys.path.append(\"/content/drive/MyDrive\")"
   ],
   "outputs": [],
   "execution_count": null
  },
  {
   "metadata": {
    "colab": {
     "base_uri": "https://localhost:8080/"
    },
    "id": "mjpi0pVQB--k",
    "outputId": "7cacdf5c-915b-4040-c307-388ba89d39ee",
    "executionInfo": {
     "status": "ok",
     "timestamp": 1740729450695,
     "user_tz": -540,
     "elapsed": 2804,
     "user": {
      "displayName": "박성진",
      "userId": "12080183397045109956"
     }
    }
   },
   "cell_type": "code",
   "source": [
    "import torch\n",
    "import torch.nn as nn\n",
    "import torch.optim as optim\n",
    "from torch.utils.data import DataLoader\n",
    "\n",
    "from utils import (\n",
    "    ignore_warnings,\n",
    "    fix_random_seed,\n",
    "    device,\n",
    "    clear_cache,\n",
    "    join_drive_path,\n",
    "    log_json,\n",
    "    train_with_kfold,\n",
    "    WarmupScheduler,\n",
    "    evaluate,\n",
    "    Config,\n",
    "    IEEEDataConfig,\n",
    "    EEGDataset,\n",
    ")\n",
    "from models.transformer import TransformerConfig, ViTransformer\n",
    "\n",
    "ignore_warnings()\n",
    "fix_random_seed(42)\n",
    "device = device(force_cuda=True)\n",
    "print(\"Device:\", device)"
   ],
   "outputs": [],
   "execution_count": null
  },
  {
   "metadata": {
    "colab": {
     "base_uri": "https://localhost:8080/"
    },
    "id": "2PZljW2RB--k",
    "outputId": "48c592c9-1241-46d7-e185-0f2ec4dd083c",
    "executionInfo": {
     "status": "ok",
     "timestamp": 1740729450704,
     "user_tz": -540,
     "elapsed": 8,
     "user": {
      "displayName": "박성진",
      "userId": "12080183397045109956"
     }
    }
   },
   "cell_type": "code",
   "source": [
    "config = Config(\n",
    "    name=\"ieee transformer\",\n",
    "    batch=8,\n",
    "    epochs=50,\n",
    "    lr=1e-3,\n",
    "    enable_fp16=True,\n",
    "    grad_step=4,\n",
    "    warmup_steps=50,\n",
    "    lr_decay_factor=0.5,\n",
    "    weight_decay=1e-3,\n",
    "    patience=30,\n",
    "    k_folds=5,\n",
    ")\n",
    "data_config = IEEEDataConfig()\n",
    "model_config = TransformerConfig(\n",
    "    embed_dim=64,\n",
    "    num_heads=4,\n",
    "    num_blocks=4,\n",
    "    block_hidden_dim=64,\n",
    "    fc_hidden_dim=32,\n",
    "    dropout=0.1,\n",
    ")\n",
    "\n",
    "print(\"ID:\", config.id)\n",
    "print(\"Name:\", config.name)"
   ],
   "outputs": [],
   "execution_count": null
  },
  {
   "metadata": {
    "id": "vZLePiZkB--k",
    "executionInfo": {
     "status": "ok",
     "timestamp": 1740729450875,
     "user_tz": -540,
     "elapsed": 170,
     "user": {
      "displayName": "박성진",
      "userId": "12080183397045109956"
     }
    }
   },
   "cell_type": "code",
   "source": [
    "train_data_path = join_drive_path(\"data\", data_config.train)\n",
    "val_data_path = join_drive_path(\"data\", data_config.val)\n",
    "\n",
    "train_data = torch.load(train_data_path, weights_only=True)\n",
    "val_data = torch.load(val_data_path, weights_only=True)\n",
    "\n",
    "# Concat Train-set and Validation-set for Cross validation\n",
    "signals = torch.cat([train_data[\"data\"], val_data[\"data\"]], dim=0)\n",
    "labels = torch.cat([train_data[\"label\"], val_data[\"label\"]], dim=0)\n",
    "\n",
    "train_dataset = EEGDataset({\"data\": signals, \"label\": labels})"
   ],
   "outputs": [],
   "execution_count": null
  },
  {
   "metadata": {
    "colab": {
     "base_uri": "https://localhost:8080/",
     "height": 1000,
     "referenced_widgets": [
      "13002bbdb49a43d09b85fa89a2026e1b",
      "48a2f6c904bd480c9d10b341e7930afc",
      "cf9ec8a2bb5e4f1db6a7816ee8b58d85",
      "c75c49f61b6742b3aa0af3e6a7f665a3",
      "10f39153b90f4254bdb9076f8b1113dd",
      "b5c26be6bc0743989994387ad6651c37",
      "d64ba15108434093926f3fe6a8d49276",
      "36e2e4a548a0471190260e5c69c3ad40",
      "2ff0e9e7bb38422baabd3c4ea3de2c24",
      "20a16452173345f2bd45f9ff4c25953a",
      "694ec5457d8c4449915e6abf9811a1bc"
     ]
    },
    "id": "EiuDgm2qB--l",
    "outputId": "ac35e496-34a9-4ad9-feff-895a630c8da7",
    "executionInfo": {
     "status": "ok",
     "timestamp": 1740730385921,
     "user_tz": -540,
     "elapsed": 933656,
     "user": {
      "displayName": "박성진",
      "userId": "12080183397045109956"
     }
    }
   },
   "cell_type": "code",
   "source": [
    "model_param = {\n",
    "    \"input_channel\": data_config.channels,\n",
    "    \"seq_length\": data_config.length,\n",
    "    \"embed_dim\": model_config.embed_dim,\n",
    "    \"num_heads\": model_config.num_heads,\n",
    "    \"num_blocks\": model_config.num_blocks,\n",
    "    \"block_hidden_dim\": model_config.block_hidden_dim,\n",
    "    \"fc_hidden_dim\": model_config.fc_hidden_dim,\n",
    "    \"num_classes\": data_config.num_classes,\n",
    "    \"dropout_p\": model_config.dropout,\n",
    "}\n",
    "\n",
    "check_point, best_model_path = train_with_kfold(\n",
    "    k_folds=config.k_folds,\n",
    "    model_class=ViTransformer,\n",
    "    device=device,\n",
    "    model_path=config.model_path,\n",
    "    optimizer_class=optim.Adam,\n",
    "    criterion_class=nn.CrossEntropyLoss,\n",
    "    epochs=config.epochs,\n",
    "    train_dataset=train_dataset,\n",
    "    batch=config.batch,\n",
    "    gradient_step=config.grad_step,\n",
    "    patience=config.patience,\n",
    "    model_params=model_param,\n",
    "    optimizer_params={\"lr\": config.lr, \"weight_decay\": config.weight_decay},\n",
    "    enable_fp16=config.enable_fp16,\n",
    "    scheduler_class=WarmupScheduler,\n",
    "    scheduler_params={\n",
    "        \"lr\": config.lr,\n",
    "        \"warmup_steps\": config.warmup_steps,\n",
    "        \"decay_factor\": config.lr_decay_factor,\n",
    "    },\n",
    ")"
   ],
   "outputs": [],
   "execution_count": null
  },
  {
   "cell_type": "code",
   "source": [
    "config.epochs = check_point\n",
    "config.model_path = best_model_path\n",
    "\n",
    "print(\"Best model path:\", config.model_path)\n",
    "print(\"Model checkpoint:\", config.epochs)"
   ],
   "metadata": {
    "id": "nOVmg86An-M4",
    "executionInfo": {
     "status": "ok",
     "timestamp": 1740730554234,
     "user_tz": -540,
     "elapsed": 3,
     "user": {
      "displayName": "박성진",
      "userId": "12080183397045109956"
     }
    }
   },
   "outputs": [],
   "execution_count": null
  },
  {
   "metadata": {
    "colab": {
     "base_uri": "https://localhost:8080/"
    },
    "id": "tjHEoS_iB--l",
    "outputId": "38349531-05e7-47e8-89e2-7b1fbf98af10",
    "executionInfo": {
     "status": "ok",
     "timestamp": 1740730386224,
     "user_tz": -540,
     "elapsed": 304,
     "user": {
      "displayName": "박성진",
      "userId": "12080183397045109956"
     }
    }
   },
   "cell_type": "code",
   "source": [
    "clear_cache()\n",
    "\n",
    "trained_weights = torch.load(\n",
    "    join_drive_path(\"log\", config.model_path), weights_only=True, map_location=device\n",
    ")\n",
    "model = ViTransformer(**model_param)\n",
    "model.load_state_dict(trained_weights)"
   ],
   "outputs": [],
   "execution_count": null
  },
  {
   "metadata": {
    "colab": {
     "base_uri": "https://localhost:8080/"
    },
    "id": "VLOzzx9KB--l",
    "outputId": "6b0aad3b-8dfc-4a46-e257-0b1f2f2ccf7f",
    "executionInfo": {
     "status": "ok",
     "timestamp": 1740730387213,
     "user_tz": -540,
     "elapsed": 988,
     "user": {
      "displayName": "박성진",
      "userId": "12080183397045109956"
     }
    }
   },
   "cell_type": "code",
   "source": [
    "test_data_path = join_drive_path(\"data\", data_config.test)\n",
    "test_dataset = EEGDataset(test_data_path)\n",
    "test_dataloader = DataLoader(test_dataset, batch_size=config.batch)\n",
    "\n",
    "metrics = evaluate(model, device, test_dataloader, enable_fp16=config.enable_fp16)\n",
    "\n",
    "print(f\"Accuracy: {metrics['accuracy']:.3f}\")\n",
    "print(f\"F1-Score: {metrics['f1-score']:.3f}\")\n",
    "print(f\"Recall: {metrics['recall']:.3f}\")\n",
    "print(f\"AUC: {metrics['auc']:.3f}\")"
   ],
   "outputs": [],
   "execution_count": null
  },
  {
   "metadata": {
    "vscode": {
     "languageId": "plaintext"
    },
    "id": "E3KIAiYn6Kag",
    "colab": {
     "base_uri": "https://localhost:8080/"
    },
    "outputId": "a37fa46d-90e4-4c9e-c35b-651a7340283d",
    "executionInfo": {
     "status": "ok",
     "timestamp": 1740730556496,
     "user_tz": -540,
     "elapsed": 14,
     "user": {
      "displayName": "박성진",
      "userId": "12080183397045109956"
     }
    }
   },
   "cell_type": "code",
   "source": [
    "json_path = join_drive_path(\"log\", f\"{config.name}_{config.id}.json\")\n",
    "log_json(\n",
    "    json_path, config=config, data=data_config, model=model_config, metrics=metrics\n",
    ")"
   ],
   "outputs": [],
   "execution_count": null
  }
 ],
 "metadata": {
  "language_info": {
   "name": "python"
  },
  "colab": {
   "provenance": [],
   "gpuType": "T4"
  },
  "kernelspec": {
   "name": "python3",
   "display_name": "Python 3"
  },
  "accelerator": "GPU",
  "widgets": {
   "application/vnd.jupyter.widget-state+json": {
    "13002bbdb49a43d09b85fa89a2026e1b": {
     "model_module": "@jupyter-widgets/controls",
     "model_name": "HBoxModel",
     "model_module_version": "1.5.0",
     "state": {
      "_dom_classes": [],
      "_model_module": "@jupyter-widgets/controls",
      "_model_module_version": "1.5.0",
      "_model_name": "HBoxModel",
      "_view_count": null,
      "_view_module": "@jupyter-widgets/controls",
      "_view_module_version": "1.5.0",
      "_view_name": "HBoxView",
      "box_style": "",
      "children": [
       "IPY_MODEL_48a2f6c904bd480c9d10b341e7930afc",
       "IPY_MODEL_cf9ec8a2bb5e4f1db6a7816ee8b58d85",
       "IPY_MODEL_c75c49f61b6742b3aa0af3e6a7f665a3"
      ],
      "layout": "IPY_MODEL_10f39153b90f4254bdb9076f8b1113dd"
     }
    },
    "48a2f6c904bd480c9d10b341e7930afc": {
     "model_module": "@jupyter-widgets/controls",
     "model_name": "HTMLModel",
     "model_module_version": "1.5.0",
     "state": {
      "_dom_classes": [],
      "_model_module": "@jupyter-widgets/controls",
      "_model_module_version": "1.5.0",
      "_model_name": "HTMLModel",
      "_view_count": null,
      "_view_module": "@jupyter-widgets/controls",
      "_view_module_version": "1.5.0",
      "_view_name": "HTMLView",
      "description": "",
      "description_tooltip": null,
      "layout": "IPY_MODEL_b5c26be6bc0743989994387ad6651c37",
      "placeholder": "​",
      "style": "IPY_MODEL_d64ba15108434093926f3fe6a8d49276",
      "value": " 76%"
     }
    },
    "cf9ec8a2bb5e4f1db6a7816ee8b58d85": {
     "model_module": "@jupyter-widgets/controls",
     "model_name": "FloatProgressModel",
     "model_module_version": "1.5.0",
     "state": {
      "_dom_classes": [],
      "_model_module": "@jupyter-widgets/controls",
      "_model_module_version": "1.5.0",
      "_model_name": "FloatProgressModel",
      "_view_count": null,
      "_view_module": "@jupyter-widgets/controls",
      "_view_module_version": "1.5.0",
      "_view_name": "ProgressView",
      "bar_style": "danger",
      "description": "",
      "description_tooltip": null,
      "layout": "IPY_MODEL_36e2e4a548a0471190260e5c69c3ad40",
      "max": 100,
      "min": 0,
      "orientation": "horizontal",
      "style": "IPY_MODEL_2ff0e9e7bb38422baabd3c4ea3de2c24",
      "value": 76
     }
    },
    "c75c49f61b6742b3aa0af3e6a7f665a3": {
     "model_module": "@jupyter-widgets/controls",
     "model_name": "HTMLModel",
     "model_module_version": "1.5.0",
     "state": {
      "_dom_classes": [],
      "_model_module": "@jupyter-widgets/controls",
      "_model_module_version": "1.5.0",
      "_model_name": "HTMLModel",
      "_view_count": null,
      "_view_module": "@jupyter-widgets/controls",
      "_view_module_version": "1.5.0",
      "_view_name": "HTMLView",
      "description": "",
      "description_tooltip": null,
      "layout": "IPY_MODEL_20a16452173345f2bd45f9ff4c25953a",
      "placeholder": "​",
      "style": "IPY_MODEL_694ec5457d8c4449915e6abf9811a1bc",
      "value": " 76/100 [15:33&lt;04:50, 12.11s/it]"
     }
    },
    "10f39153b90f4254bdb9076f8b1113dd": {
     "model_module": "@jupyter-widgets/base",
     "model_name": "LayoutModel",
     "model_module_version": "1.2.0",
     "state": {
      "_model_module": "@jupyter-widgets/base",
      "_model_module_version": "1.2.0",
      "_model_name": "LayoutModel",
      "_view_count": null,
      "_view_module": "@jupyter-widgets/base",
      "_view_module_version": "1.2.0",
      "_view_name": "LayoutView",
      "align_content": null,
      "align_items": null,
      "align_self": null,
      "border": null,
      "bottom": null,
      "display": null,
      "flex": null,
      "flex_flow": null,
      "grid_area": null,
      "grid_auto_columns": null,
      "grid_auto_flow": null,
      "grid_auto_rows": null,
      "grid_column": null,
      "grid_gap": null,
      "grid_row": null,
      "grid_template_areas": null,
      "grid_template_columns": null,
      "grid_template_rows": null,
      "height": null,
      "justify_content": null,
      "justify_items": null,
      "left": null,
      "margin": null,
      "max_height": null,
      "max_width": null,
      "min_height": null,
      "min_width": null,
      "object_fit": null,
      "object_position": null,
      "order": null,
      "overflow": null,
      "overflow_x": null,
      "overflow_y": null,
      "padding": null,
      "right": null,
      "top": null,
      "visibility": null,
      "width": null
     }
    },
    "b5c26be6bc0743989994387ad6651c37": {
     "model_module": "@jupyter-widgets/base",
     "model_name": "LayoutModel",
     "model_module_version": "1.2.0",
     "state": {
      "_model_module": "@jupyter-widgets/base",
      "_model_module_version": "1.2.0",
      "_model_name": "LayoutModel",
      "_view_count": null,
      "_view_module": "@jupyter-widgets/base",
      "_view_module_version": "1.2.0",
      "_view_name": "LayoutView",
      "align_content": null,
      "align_items": null,
      "align_self": null,
      "border": null,
      "bottom": null,
      "display": null,
      "flex": null,
      "flex_flow": null,
      "grid_area": null,
      "grid_auto_columns": null,
      "grid_auto_flow": null,
      "grid_auto_rows": null,
      "grid_column": null,
      "grid_gap": null,
      "grid_row": null,
      "grid_template_areas": null,
      "grid_template_columns": null,
      "grid_template_rows": null,
      "height": null,
      "justify_content": null,
      "justify_items": null,
      "left": null,
      "margin": null,
      "max_height": null,
      "max_width": null,
      "min_height": null,
      "min_width": null,
      "object_fit": null,
      "object_position": null,
      "order": null,
      "overflow": null,
      "overflow_x": null,
      "overflow_y": null,
      "padding": null,
      "right": null,
      "top": null,
      "visibility": null,
      "width": null
     }
    },
    "d64ba15108434093926f3fe6a8d49276": {
     "model_module": "@jupyter-widgets/controls",
     "model_name": "DescriptionStyleModel",
     "model_module_version": "1.5.0",
     "state": {
      "_model_module": "@jupyter-widgets/controls",
      "_model_module_version": "1.5.0",
      "_model_name": "DescriptionStyleModel",
      "_view_count": null,
      "_view_module": "@jupyter-widgets/base",
      "_view_module_version": "1.2.0",
      "_view_name": "StyleView",
      "description_width": ""
     }
    },
    "36e2e4a548a0471190260e5c69c3ad40": {
     "model_module": "@jupyter-widgets/base",
     "model_name": "LayoutModel",
     "model_module_version": "1.2.0",
     "state": {
      "_model_module": "@jupyter-widgets/base",
      "_model_module_version": "1.2.0",
      "_model_name": "LayoutModel",
      "_view_count": null,
      "_view_module": "@jupyter-widgets/base",
      "_view_module_version": "1.2.0",
      "_view_name": "LayoutView",
      "align_content": null,
      "align_items": null,
      "align_self": null,
      "border": null,
      "bottom": null,
      "display": null,
      "flex": null,
      "flex_flow": null,
      "grid_area": null,
      "grid_auto_columns": null,
      "grid_auto_flow": null,
      "grid_auto_rows": null,
      "grid_column": null,
      "grid_gap": null,
      "grid_row": null,
      "grid_template_areas": null,
      "grid_template_columns": null,
      "grid_template_rows": null,
      "height": null,
      "justify_content": null,
      "justify_items": null,
      "left": null,
      "margin": null,
      "max_height": null,
      "max_width": null,
      "min_height": null,
      "min_width": null,
      "object_fit": null,
      "object_position": null,
      "order": null,
      "overflow": null,
      "overflow_x": null,
      "overflow_y": null,
      "padding": null,
      "right": null,
      "top": null,
      "visibility": null,
      "width": null
     }
    },
    "2ff0e9e7bb38422baabd3c4ea3de2c24": {
     "model_module": "@jupyter-widgets/controls",
     "model_name": "ProgressStyleModel",
     "model_module_version": "1.5.0",
     "state": {
      "_model_module": "@jupyter-widgets/controls",
      "_model_module_version": "1.5.0",
      "_model_name": "ProgressStyleModel",
      "_view_count": null,
      "_view_module": "@jupyter-widgets/base",
      "_view_module_version": "1.2.0",
      "_view_name": "StyleView",
      "bar_color": null,
      "description_width": ""
     }
    },
    "20a16452173345f2bd45f9ff4c25953a": {
     "model_module": "@jupyter-widgets/base",
     "model_name": "LayoutModel",
     "model_module_version": "1.2.0",
     "state": {
      "_model_module": "@jupyter-widgets/base",
      "_model_module_version": "1.2.0",
      "_model_name": "LayoutModel",
      "_view_count": null,
      "_view_module": "@jupyter-widgets/base",
      "_view_module_version": "1.2.0",
      "_view_name": "LayoutView",
      "align_content": null,
      "align_items": null,
      "align_self": null,
      "border": null,
      "bottom": null,
      "display": null,
      "flex": null,
      "flex_flow": null,
      "grid_area": null,
      "grid_auto_columns": null,
      "grid_auto_flow": null,
      "grid_auto_rows": null,
      "grid_column": null,
      "grid_gap": null,
      "grid_row": null,
      "grid_template_areas": null,
      "grid_template_columns": null,
      "grid_template_rows": null,
      "height": null,
      "justify_content": null,
      "justify_items": null,
      "left": null,
      "margin": null,
      "max_height": null,
      "max_width": null,
      "min_height": null,
      "min_width": null,
      "object_fit": null,
      "object_position": null,
      "order": null,
      "overflow": null,
      "overflow_x": null,
      "overflow_y": null,
      "padding": null,
      "right": null,
      "top": null,
      "visibility": null,
      "width": null
     }
    },
    "694ec5457d8c4449915e6abf9811a1bc": {
     "model_module": "@jupyter-widgets/controls",
     "model_name": "DescriptionStyleModel",
     "model_module_version": "1.5.0",
     "state": {
      "_model_module": "@jupyter-widgets/controls",
      "_model_module_version": "1.5.0",
      "_model_name": "DescriptionStyleModel",
      "_view_count": null,
      "_view_module": "@jupyter-widgets/base",
      "_view_module_version": "1.2.0",
      "_view_name": "StyleView",
      "description_width": ""
     }
    }
   }
  }
 },
 "nbformat": 4,
 "nbformat_minor": 0
}
