{
 "cells": [
  {
   "metadata": {},
   "cell_type": "markdown",
   "source": [
    "# Split Dataset\n",
    "\n",
    "split dataset into { train, validation, test } sets\n",
    "\n",
    "- train: 70%\n",
    "- validation: 10%\n",
    "- test: 20%"
   ],
   "id": "4088556f97309306"
  },
  {
   "cell_type": "code",
   "id": "initial_id",
   "metadata": {
    "collapsed": true,
    "ExecuteTime": {
     "end_time": "2025-02-24T05:09:04.068891Z",
     "start_time": "2025-02-24T05:09:02.494880Z"
    }
   },
   "source": [
    "import os\n",
    "import json\n",
    "import torch\n",
    "\n",
    "data_dir = os.path.abspath(\"../../IEEE\")\n",
    "\n",
    "torch.manual_seed(42)"
   ],
   "outputs": [
    {
     "data": {
      "text/plain": [
       "<torch._C.Generator at 0x1631f92c830>"
      ]
     },
     "execution_count": 1,
     "metadata": {},
     "output_type": "execute_result"
    }
   ],
   "execution_count": 1
  },
  {
   "metadata": {
    "ExecuteTime": {
     "end_time": "2025-02-24T05:09:04.084319Z",
     "start_time": "2025-02-24T05:09:04.073896Z"
    }
   },
   "cell_type": "code",
   "source": [
    "def split_dataset(dataset: torch.Tensor, train_ratio=0.7, val_ratio=0.1):\n",
    "    \"\"\"Split dataset into train, val, and test sets.\n",
    "\n",
    "    :return: Tuple of (train_dataset, val_dataset, test_dataset)\n",
    "    \"\"\"\n",
    "    n_dataset = dataset.shape[0]\n",
    "    train_size = int(n_dataset * train_ratio)\n",
    "    val_size = int(n_dataset * val_ratio)\n",
    "    # test_size = n_dataset - train_size - val_size\n",
    "\n",
    "    indices = torch.randperm(n_dataset)\n",
    "    train_indices = indices[:train_size]\n",
    "    val_indices = indices[train_size : train_size + val_size]\n",
    "    test_indices = indices[train_size + val_size :]\n",
    "\n",
    "    return dataset[train_indices], dataset[val_indices], dataset[test_indices]"
   ],
   "id": "f94ca18b9f1be3e1",
   "outputs": [],
   "execution_count": 2
  },
  {
   "metadata": {},
   "cell_type": "markdown",
   "source": "## Split ADHD Dataset",
   "id": "28d9857d4c8f8003"
  },
  {
   "metadata": {
    "ExecuteTime": {
     "end_time": "2025-02-24T05:09:04.272362Z",
     "start_time": "2025-02-24T05:09:04.242101Z"
    }
   },
   "cell_type": "code",
   "source": [
    "adhd_dataset = torch.load(os.path.join(data_dir, \"ieee_eeg_adhd.pt\"))\n",
    "train_set_adhd, val_set_adhd, test_set_adhd = split_dataset(adhd_dataset)\n",
    "\n",
    "print(\"Train set:\", train_set_adhd.size())\n",
    "print(\"Val set:\", val_set_adhd.size())\n",
    "print(\"Test set:\", test_set_adhd.size())"
   ],
   "id": "69eeb60b688d4a86",
   "outputs": [
    {
     "name": "stdout",
     "output_type": "stream",
     "text": [
      "Train set: torch.Size([306, 2560, 19])\n",
      "Val set: torch.Size([43, 2560, 19])\n",
      "Test set: torch.Size([89, 2560, 19])\n"
     ]
    }
   ],
   "execution_count": 3
  },
  {
   "metadata": {},
   "cell_type": "markdown",
   "source": "## Split Contorl Dataset",
   "id": "5e8f9ee86a6595ed"
  },
  {
   "metadata": {
    "ExecuteTime": {
     "end_time": "2025-02-24T05:09:04.318147Z",
     "start_time": "2025-02-24T05:09:04.291972Z"
    }
   },
   "cell_type": "code",
   "source": [
    "control_dataset = torch.load(os.path.join(data_dir, \"ieee_eeg_control.pt\"))\n",
    "train_set_control, val_set_control, test_set_control = split_dataset(control_dataset)\n",
    "\n",
    "print(\"Train set:\", train_set_control.size())\n",
    "print(\"Val set:\", val_set_control.size())\n",
    "print(\"Test set:\", test_set_control.size())"
   ],
   "id": "a6313fb2aaf63e56",
   "outputs": [
    {
     "name": "stdout",
     "output_type": "stream",
     "text": [
      "Train set: torch.Size([241, 2560, 19])\n",
      "Val set: torch.Size([34, 2560, 19])\n",
      "Test set: torch.Size([70, 2560, 19])\n"
     ]
    }
   ],
   "execution_count": 4
  },
  {
   "metadata": {},
   "cell_type": "markdown",
   "source": [
    "## Save with labels\n",
    "\n",
    "- 1: ADHD\n",
    "- 0: Contorl (non-ADHD)"
   ],
   "id": "14945e906d72833f"
  },
  {
   "metadata": {
    "ExecuteTime": {
     "end_time": "2025-02-24T05:09:04.365036Z",
     "start_time": "2025-02-24T05:09:04.351027Z"
    }
   },
   "cell_type": "code",
   "source": [
    "def save_dataset(dataset, labels, filename):\n",
    "    labeled_dataset = {\"data\": dataset, \"label\": labels}\n",
    "    save_path = os.path.join(data_dir, filename)\n",
    "    torch.save(labeled_dataset, save_path)"
   ],
   "id": "33ab949b81855179",
   "outputs": [],
   "execution_count": 5
  },
  {
   "metadata": {
    "ExecuteTime": {
     "end_time": "2025-02-24T05:09:04.507639Z",
     "start_time": "2025-02-24T05:09:04.382065Z"
    }
   },
   "cell_type": "code",
   "source": [
    "train_set = torch.cat((train_set_adhd, train_set_control), dim=0)\n",
    "train_labels = torch.cat(\n",
    "    (\n",
    "        torch.ones((train_set_adhd.shape[0], 1), dtype=torch.int8),\n",
    "        torch.zeros((train_set_control.shape[0], 1), dtype=torch.int8),\n",
    "    ),\n",
    "    dim=0,\n",
    ")\n",
    "save_dataset(train_set, train_labels, \"train.pt\")"
   ],
   "id": "64fd56f6c47b66cb",
   "outputs": [],
   "execution_count": 6
  },
  {
   "metadata": {
    "ExecuteTime": {
     "end_time": "2025-02-24T05:09:04.570194Z",
     "start_time": "2025-02-24T05:09:04.539811Z"
    }
   },
   "cell_type": "code",
   "source": [
    "val_set = torch.cat((val_set_adhd, val_set_control), dim=0)\n",
    "val_labels = torch.cat(\n",
    "    (\n",
    "        torch.ones((val_set_adhd.shape[0], 1), dtype=torch.int8),\n",
    "        torch.zeros((val_set_control.shape[0], 1), dtype=torch.int8),\n",
    "    ),\n",
    "    dim=0,\n",
    ")\n",
    "save_dataset(val_set, val_labels, \"val.pt\")"
   ],
   "id": "982bd03f8ac3b3bc",
   "outputs": [],
   "execution_count": 7
  },
  {
   "metadata": {
    "ExecuteTime": {
     "end_time": "2025-02-24T05:09:04.633125Z",
     "start_time": "2025-02-24T05:09:04.601705Z"
    }
   },
   "cell_type": "code",
   "source": [
    "test_set = torch.cat((test_set_adhd, test_set_control), dim=0)\n",
    "test_labels = torch.cat(\n",
    "    (\n",
    "        torch.ones((test_set_adhd.shape[0], 1), dtype=torch.int8),\n",
    "        torch.zeros((test_set_control.shape[0], 1), dtype=torch.int8),\n",
    "    ),\n",
    "    dim=0,\n",
    ")\n",
    "save_dataset(test_set, test_labels, \"test.pt\")"
   ],
   "id": "e1aceba927364375",
   "outputs": [],
   "execution_count": 8
  },
  {
   "metadata": {},
   "cell_type": "markdown",
   "source": "## Save metadata",
   "id": "e88ca53ac6dd0be0"
  },
  {
   "metadata": {
    "ExecuteTime": {
     "end_time": "2025-02-24T05:09:04.681187Z",
     "start_time": "2025-02-24T05:09:04.666151Z"
    }
   },
   "cell_type": "code",
   "source": [
    "metadata = {\n",
    "    \"name\": \"EEG data for ADHD / Control children\",\n",
    "    \"description\": \"EEG dataset for ADHD classification.\",\n",
    "    \"license\": \"CC BY 4.0\",\n",
    "    \"train_size\": train_set.size()[0],\n",
    "    \"val_size\": val_set.size()[0],\n",
    "    \"test_size\": test_set.size()[0],\n",
    "    \"data_length\": train_set.size()[1],\n",
    "    \"channel\": train_set.size()[2],\n",
    "    \"label\": {1: \"ADHD\", 0: \"Control\"},\n",
    "}\n",
    "\n",
    "for k, v in metadata.items():\n",
    "    print(f\"{k}: {v}\")\n",
    "\n",
    "metadata_path = os.path.join(data_dir, \"metadata.json\")\n",
    "with open(metadata_path, \"w\") as f:\n",
    "    json.dump(metadata, f, indent=2)"
   ],
   "id": "c4e10927e5f18f91",
   "outputs": [
    {
     "name": "stdout",
     "output_type": "stream",
     "text": [
      "name: EEG data for ADHD / Control children\n",
      "description: EEG dataset for ADHD classification.\n",
      "license: CC BY 4.0\n",
      "train_size: 547\n",
      "val_size: 77\n",
      "test_size: 159\n",
      "data_length: 2560\n",
      "channel: 19\n",
      "label: {1: 'ADHD', 0: 'Control'}\n"
     ]
    }
   ],
   "execution_count": 9
  }
 ],
 "metadata": {
  "kernelspec": {
   "display_name": "Python 3",
   "language": "python",
   "name": "python3"
  },
  "language_info": {
   "codemirror_mode": {
    "name": "ipython",
    "version": 2
   },
   "file_extension": ".py",
   "mimetype": "text/x-python",
   "name": "python",
   "nbconvert_exporter": "python",
   "pygments_lexer": "ipython2",
   "version": "2.7.6"
  }
 },
 "nbformat": 4,
 "nbformat_minor": 5
}
