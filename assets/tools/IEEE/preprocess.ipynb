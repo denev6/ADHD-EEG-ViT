{
 "cells": [
  {
   "cell_type": "code",
   "execution_count": 10,
   "metadata": {},
   "outputs": [],
   "source": [
    "import os\n",
    "import pathlib\n",
    "import scipy.io\n",
    "import numpy as np\n",
    "import torch\n",
    "\n",
    "data_dir = \"../../backup_datasets/IEEE\"\n",
    "target_dir = \"../../IEEE\"\n",
    "\n",
    "adhd_data_dir = [os.path.join(data_dir, \"ADHD_part1\"), os.path.join(data_dir, \"ADHD_part2\")]\n",
    "control_data_dir = [os.path.join(data_dir, \"Control_part1\"), os.path.join(data_dir, \"Control_part2\")]\n",
    "\n",
    "data_list = []\n",
    "label_list = []"
   ]
  },
  {
   "cell_type": "code",
   "execution_count": 18,
   "metadata": {},
   "outputs": [],
   "source": [
    "def mat2numpy(file: pathlib.WindowsPath, dtype=np.int32):\n",
    "    data = scipy.io.loadmat(str(file))\n",
    "    data_name = file.stem\n",
    "    signal = data[data_name].astype(dtype)\n",
    "    return signal\n",
    "\n",
    "def get_all_files(data_dir: str, func):\n",
    "    returns = []\n",
    "    data_path = pathlib.Path(data_dir)\n",
    "    for file in data_path.iterdir():\n",
    "        if file.is_file():\n",
    "            ret = mat2numpy(file)\n",
    "            ret = func(ret)\n",
    "            returns.append(ret)\n",
    "    return returns"
   ]
  },
  {
   "cell_type": "code",
   "execution_count": 20,
   "metadata": {},
   "outputs": [],
   "source": [
    "def get_length(arr: np.array):\n",
    "    return arr.shape[0]"
   ]
  },
  {
   "cell_type": "code",
   "execution_count": 27,
   "metadata": {},
   "outputs": [
    {
     "name": "stdout",
     "output_type": "stream",
     "text": [
      "min: 9852 max: 39030\n"
     ]
    }
   ],
   "source": [
    "for adhd_dir in adhd_data_dir:\n",
    "    data_lens = []\n",
    "    data_len = get_all_files(adhd_dir, get_length)\n",
    "    data_lens.append(data_len)\n",
    "\n",
    "data_lens = np.array(data_lens).reshape(-1)\n",
    "print(\"min:\", min(data_lens), \"max:\", max(data_lens))"
   ]
  },
  {
   "cell_type": "code",
   "execution_count": 28,
   "metadata": {},
   "outputs": [
    {
     "name": "stdout",
     "output_type": "stream",
     "text": [
      "min: 11208 max: 25985\n"
     ]
    }
   ],
   "source": [
    "for control_dir in control_data_dir:\n",
    "    data_lens = []\n",
    "    data_len = get_all_files(control_dir, get_length)\n",
    "    data_lens.append(data_len)\n",
    "\n",
    "data_lens = np.array(data_lens).reshape(-1)\n",
    "print(\"min:\", min(data_lens), \"max:\", max(data_lens))"
   ]
  }
 ],
 "metadata": {
  "kernelspec": {
   "display_name": "eeg",
   "language": "python",
   "name": "python3"
  },
  "language_info": {
   "codemirror_mode": {
    "name": "ipython",
    "version": 3
   },
   "file_extension": ".py",
   "mimetype": "text/x-python",
   "name": "python",
   "nbconvert_exporter": "python",
   "pygments_lexer": "ipython3",
   "version": "3.10.16"
  }
 },
 "nbformat": 4,
 "nbformat_minor": 2
}
